{
  "cells": [
    {
      "cell_type": "markdown",
      "metadata": {
        "_cell_guid": "83708667-4fdc-1563-7b3a-06b6575d2865",
        "id": "QfGhWj6MpE8f"
      },
      "source": [
        "# Pairs Trading- finding pairs based on Clustering\n",
        "\n",
        "In this case study, we will use clustering methods to select pairs for a pairs trading\n",
        "strategy."
      ]
    },
    {
      "cell_type": "markdown",
      "metadata": {
        "id": "lucQgJ-IpE8j"
      },
      "source": [
        "## Content"
      ]
    },
    {
      "cell_type": "markdown",
      "metadata": {
        "id": "ra0EgbK4pE8k"
      },
      "source": [
        "* [1. Problem Definition](#0)\n",
        "* [2. Getting Started - Load Libraries and Dataset](#1)\n",
        "    * [2.1. Load Libraries](#1.1)    \n",
        "    * [2.2. Load Dataset](#1.2)\n",
        "* [3. Exploratory Data Analysis](#2)\n",
        "    * [3.1 Descriptive Statistics](#2.1)    \n",
        "    * [3.2. Data Visualisation](#2.2)\n",
        "* [4. Data Preparation](#3)\n",
        "    * [4.1 Data Cleaning](#3.1)\n",
        "    * [4.3.Data Transformation](#3.2)  \n",
        "* [5.Evaluate Algorithms and Models](#5)        \n",
        "    * [5.1. k-Means Clustering](#5.1)\n",
        "        * [5.1.1 Finding right number of clusters](#5.1.1)\n",
        "        * [5.1.2 Clustering and Visualization](#5.1.2)\n",
        "    * [5.2. Hierarchial Clustering (Agglomerative Clustering)](#5.2)\n",
        "        * [5.2.1. Building Hierarchy Graph/ Dendogram](#5.2.1)\n",
        "        * [5.2.2. Clustering and Visualization](#5.2.1)\n",
        "    * [5.3. Affinity Propagation Clustering](#5.3)\n",
        "        * [5.3.1 Visualising the cluster](#5.2.1)\n",
        "    * [5.4. Cluster Evaluation](#5.4)        \n",
        "* [6.Pair Selection](#6)        \n",
        "    * [6.1 Cointegration and Pair Selection Function](#6.1)    \n",
        "    * [6.2. Pair Visualization](#6.2)     "
      ]
    },
    {
      "cell_type": "markdown",
      "metadata": {
        "id": "HmQm3zB8pE8l"
      },
      "source": [
        "<a id='0'></a>\n",
        "# 1. Problem Definition"
      ]
    },
    {
      "cell_type": "markdown",
      "metadata": {
        "id": "ZZnBqmrwpE8l"
      },
      "source": [
        "Our goal in this case study is to perform clustering analysis on the stocks of S&P500\n",
        "and come up with pairs for a pairs trading strategy.\n",
        "\n",
        "\n",
        "The data of the stocks of S&P 500, obtained using pandas_datareader from yahoo\n",
        "finance. It includes price data from 2018 onwards."
      ]
    },
    {
      "cell_type": "markdown",
      "metadata": {
        "id": "mkRVxK9SpE8m"
      },
      "source": [
        "<a id='1'></a>\n",
        "# 2. Getting Started- Loading the data and python packages"
      ]
    },
    {
      "cell_type": "markdown",
      "metadata": {
        "id": "A3OuBb6opE8m"
      },
      "source": [
        "<a id='1.1'></a>\n",
        "## 2.1. Loading the python packages"
      ]
    },
    {
      "cell_type": "code",
      "execution_count": 186,
      "metadata": {
        "_cell_guid": "5d8fee34-f454-2642-8b06-ed719f0317e1",
        "id": "yUZWwIutpE8n"
      },
      "outputs": [],
      "source": [
        "# Load libraries\n",
        "import numpy as np\n",
        "import pandas as pd\n",
        "import matplotlib.pyplot as plt\n",
        "from pandas import read_csv, set_option\n",
        "from pandas.plotting import scatter_matrix\n",
        "import seaborn as sns\n",
        "from sklearn.preprocessing import StandardScaler\n",
        "import datetime\n",
        "import pandas_datareader as dr\n",
        "\n",
        "#Import Model Packages\n",
        "from sklearn.cluster import KMeans, AgglomerativeClustering,AffinityPropagation, DBSCAN\n",
        "from scipy.cluster.hierarchy import fcluster\n",
        "from scipy.cluster.hierarchy import dendrogram, linkage, cophenet\n",
        "from scipy.spatial.distance import pdist\n",
        "from sklearn.metrics import adjusted_mutual_info_score\n",
        "from sklearn import cluster, covariance, manifold\n",
        "import yfinance as yf\n",
        "\n",
        "#Other Helper Packages and functions\n",
        "import matplotlib.ticker as ticker\n",
        "from itertools import cycle"
      ]
    },
    {
      "cell_type": "code",
      "source": [
        "nifty50_url = \"https://raw.githubusercontent.com/anirbanghoshsbi/data/main/ind_nifty50list.csv\"\n",
        "nifty50 = pd.read_csv(nifty50_url)\n",
        "tickers = nifty50['Symbol'].apply(lambda x: x + \".NS\").tolist()\n",
        "# Bank Nifty Stocks\n",
        "nifty_stocks = tickers\n",
        "start_date='2023-01-01'"
      ],
      "metadata": {
        "id": "_IzDDOt0p2vn"
      },
      "execution_count": 187,
      "outputs": []
    },
    {
      "cell_type": "markdown",
      "metadata": {
        "id": "Xkhb53m9pE8o"
      },
      "source": [
        "<a id='1.2'></a>\n",
        "## 2.2. Loading the Data"
      ]
    },
    {
      "cell_type": "code",
      "execution_count": 188,
      "metadata": {
        "id": "TQb5PsiMpE8o",
        "outputId": "7107b5a5-cbd2-42f5-ed2f-20bad1e7ce7e",
        "colab": {
          "base_uri": "https://localhost:8080/"
        }
      },
      "outputs": [
        {
          "output_type": "stream",
          "name": "stderr",
          "text": [
            "[*********************100%%**********************]  50 of 50 completed\n"
          ]
        }
      ],
      "source": [
        "#The data already obtained from yahoo finance is imported.\n",
        "dataset = yf.download(nifty_stocks, start=start_date)\n",
        "dataset = dataset['Adj Close']"
      ]
    },
    {
      "cell_type": "code",
      "execution_count": 189,
      "metadata": {
        "id": "WEY50miXpE8o"
      },
      "outputs": [],
      "source": [
        "#Diable the warnings\n",
        "import warnings\n",
        "warnings.filterwarnings('ignore')"
      ]
    },
    {
      "cell_type": "code",
      "execution_count": 190,
      "metadata": {
        "id": "9wUYVY9QpE8p",
        "outputId": "ca1e52d7-cb43-41c1-8f5c-86ce5b1fce53",
        "colab": {
          "base_uri": "https://localhost:8080/",
          "height": 203
        }
      },
      "outputs": [
        {
          "output_type": "execute_result",
          "data": {
            "text/plain": [
              "pandas.core.frame.DataFrame"
            ],
            "text/html": [
              "<div style=\"max-width:800px; border: 1px solid var(--colab-border-color);\"><style>\n",
              "      pre.function-repr-contents {\n",
              "        overflow-x: auto;\n",
              "        padding: 8px 12px;\n",
              "        max-height: 500px;\n",
              "      }\n",
              "\n",
              "      pre.function-repr-contents.function-repr-contents-collapsed {\n",
              "        cursor: pointer;\n",
              "        max-height: 100px;\n",
              "      }\n",
              "    </style>\n",
              "    <pre style=\"white-space: initial; background:\n",
              "         var(--colab-secondary-surface-color); padding: 8px 12px;\n",
              "         border-bottom: 1px solid var(--colab-border-color);\"><b>pandas.core.frame.DataFrame</b><br/>def __init__(data=None, index: Axes | None=None, columns: Axes | None=None, dtype: Dtype | None=None, copy: bool | None=None) -&gt; None</pre><pre class=\"function-repr-contents function-repr-contents-collapsed\" style=\"\"><a class=\"filepath\" style=\"display:none\" href=\"#\">/usr/local/lib/python3.10/dist-packages/pandas/core/frame.py</a>Two-dimensional, size-mutable, potentially heterogeneous tabular data.\n",
              "\n",
              "Data structure also contains labeled axes (rows and columns).\n",
              "Arithmetic operations align on both row and column labels. Can be\n",
              "thought of as a dict-like container for Series objects. The primary\n",
              "pandas data structure.\n",
              "\n",
              "Parameters\n",
              "----------\n",
              "data : ndarray (structured or homogeneous), Iterable, dict, or DataFrame\n",
              "    Dict can contain Series, arrays, constants, dataclass or list-like objects. If\n",
              "    data is a dict, column order follows insertion-order. If a dict contains Series\n",
              "    which have an index defined, it is aligned by its index.\n",
              "\n",
              "    .. versionchanged:: 0.25.0\n",
              "       If data is a list of dicts, column order follows insertion-order.\n",
              "\n",
              "index : Index or array-like\n",
              "    Index to use for resulting frame. Will default to RangeIndex if\n",
              "    no indexing information part of input data and no index provided.\n",
              "columns : Index or array-like\n",
              "    Column labels to use for resulting frame when data does not have them,\n",
              "    defaulting to RangeIndex(0, 1, 2, ..., n). If data contains column labels,\n",
              "    will perform column selection instead.\n",
              "dtype : dtype, default None\n",
              "    Data type to force. Only a single dtype is allowed. If None, infer.\n",
              "copy : bool or None, default None\n",
              "    Copy data from inputs.\n",
              "    For dict data, the default of None behaves like ``copy=True``.  For DataFrame\n",
              "    or 2d ndarray input, the default of None behaves like ``copy=False``.\n",
              "    If data is a dict containing one or more Series (possibly of different dtypes),\n",
              "    ``copy=False`` will ensure that these inputs are not copied.\n",
              "\n",
              "    .. versionchanged:: 1.3.0\n",
              "\n",
              "See Also\n",
              "--------\n",
              "DataFrame.from_records : Constructor from tuples, also record arrays.\n",
              "DataFrame.from_dict : From dicts of Series, arrays, or dicts.\n",
              "read_csv : Read a comma-separated values (csv) file into DataFrame.\n",
              "read_table : Read general delimited file into DataFrame.\n",
              "read_clipboard : Read text from clipboard into DataFrame.\n",
              "\n",
              "Notes\n",
              "-----\n",
              "Please reference the :ref:`User Guide &lt;basics.dataframe&gt;` for more information.\n",
              "\n",
              "Examples\n",
              "--------\n",
              "Constructing DataFrame from a dictionary.\n",
              "\n",
              "&gt;&gt;&gt; d = {&#x27;col1&#x27;: [1, 2], &#x27;col2&#x27;: [3, 4]}\n",
              "&gt;&gt;&gt; df = pd.DataFrame(data=d)\n",
              "&gt;&gt;&gt; df\n",
              "   col1  col2\n",
              "0     1     3\n",
              "1     2     4\n",
              "\n",
              "Notice that the inferred dtype is int64.\n",
              "\n",
              "&gt;&gt;&gt; df.dtypes\n",
              "col1    int64\n",
              "col2    int64\n",
              "dtype: object\n",
              "\n",
              "To enforce a single dtype:\n",
              "\n",
              "&gt;&gt;&gt; df = pd.DataFrame(data=d, dtype=np.int8)\n",
              "&gt;&gt;&gt; df.dtypes\n",
              "col1    int8\n",
              "col2    int8\n",
              "dtype: object\n",
              "\n",
              "Constructing DataFrame from a dictionary including Series:\n",
              "\n",
              "&gt;&gt;&gt; d = {&#x27;col1&#x27;: [0, 1, 2, 3], &#x27;col2&#x27;: pd.Series([2, 3], index=[2, 3])}\n",
              "&gt;&gt;&gt; pd.DataFrame(data=d, index=[0, 1, 2, 3])\n",
              "   col1  col2\n",
              "0     0   NaN\n",
              "1     1   NaN\n",
              "2     2   2.0\n",
              "3     3   3.0\n",
              "\n",
              "Constructing DataFrame from numpy ndarray:\n",
              "\n",
              "&gt;&gt;&gt; df2 = pd.DataFrame(np.array([[1, 2, 3], [4, 5, 6], [7, 8, 9]]),\n",
              "...                    columns=[&#x27;a&#x27;, &#x27;b&#x27;, &#x27;c&#x27;])\n",
              "&gt;&gt;&gt; df2\n",
              "   a  b  c\n",
              "0  1  2  3\n",
              "1  4  5  6\n",
              "2  7  8  9\n",
              "\n",
              "Constructing DataFrame from a numpy ndarray that has labeled columns:\n",
              "\n",
              "&gt;&gt;&gt; data = np.array([(1, 2, 3), (4, 5, 6), (7, 8, 9)],\n",
              "...                 dtype=[(&quot;a&quot;, &quot;i4&quot;), (&quot;b&quot;, &quot;i4&quot;), (&quot;c&quot;, &quot;i4&quot;)])\n",
              "&gt;&gt;&gt; df3 = pd.DataFrame(data, columns=[&#x27;c&#x27;, &#x27;a&#x27;])\n",
              "...\n",
              "&gt;&gt;&gt; df3\n",
              "   c  a\n",
              "0  3  1\n",
              "1  6  4\n",
              "2  9  7\n",
              "\n",
              "Constructing DataFrame from dataclass:\n",
              "\n",
              "&gt;&gt;&gt; from dataclasses import make_dataclass\n",
              "&gt;&gt;&gt; Point = make_dataclass(&quot;Point&quot;, [(&quot;x&quot;, int), (&quot;y&quot;, int)])\n",
              "&gt;&gt;&gt; pd.DataFrame([Point(0, 0), Point(0, 3), Point(2, 3)])\n",
              "   x  y\n",
              "0  0  0\n",
              "1  0  3\n",
              "2  2  3</pre>\n",
              "      <script>\n",
              "      if (google.colab.kernel.accessAllowed && google.colab.files && google.colab.files.view) {\n",
              "        for (const element of document.querySelectorAll('.filepath')) {\n",
              "          element.style.display = 'block'\n",
              "          element.onclick = (event) => {\n",
              "            event.preventDefault();\n",
              "            event.stopPropagation();\n",
              "            google.colab.files.view(element.textContent, 475);\n",
              "          };\n",
              "        }\n",
              "      }\n",
              "      for (const element of document.querySelectorAll('.function-repr-contents')) {\n",
              "        element.onclick = (event) => {\n",
              "          event.preventDefault();\n",
              "          event.stopPropagation();\n",
              "          element.classList.toggle('function-repr-contents-collapsed');\n",
              "        };\n",
              "      }\n",
              "      </script>\n",
              "      </div>"
            ]
          },
          "metadata": {},
          "execution_count": 190
        }
      ],
      "source": [
        "type(dataset)"
      ]
    },
    {
      "cell_type": "markdown",
      "metadata": {
        "_cell_guid": "df6a4523-b385-69ee-c933-592826d81431",
        "id": "3JkAGu1IpE8p"
      },
      "source": [
        "<a id='2'></a>\n",
        "# 3. Exploratory Data Analysis"
      ]
    },
    {
      "cell_type": "markdown",
      "metadata": {
        "id": "7yCXrCm-pE8p"
      },
      "source": [
        "<a id='2.1'></a>\n",
        "## 3.1. Descriptive Statistics"
      ]
    },
    {
      "cell_type": "code",
      "execution_count": 191,
      "metadata": {
        "_cell_guid": "52f85dc2-0f91-3c50-400e-ddc38bea966b",
        "id": "V0uYJvkBpE8p",
        "outputId": "61236047-5a54-4a3e-fb6d-ed4121eac0ce",
        "colab": {
          "base_uri": "https://localhost:8080/"
        }
      },
      "outputs": [
        {
          "output_type": "execute_result",
          "data": {
            "text/plain": [
              "(289, 50)"
            ]
          },
          "metadata": {},
          "execution_count": 191
        }
      ],
      "source": [
        "# shape\n",
        "dataset.shape"
      ]
    },
    {
      "cell_type": "code",
      "execution_count": 192,
      "metadata": {
        "id": "zLOAM5hopE8q",
        "outputId": "ba7e9c2b-69fe-413a-eb7e-00459ae333d6",
        "colab": {
          "base_uri": "https://localhost:8080/",
          "height": 391
        }
      },
      "outputs": [
        {
          "output_type": "execute_result",
          "data": {
            "text/plain": [
              "Ticker      ADANIENT.NS  ADANIPORTS.NS  APOLLOHOSP.NS  ASIANPAINT.NS  AXISBANK.NS  BAJAJ-AUTO.NS  \\\n",
              "Date                                                                                               \n",
              "2023-01-02  3839.281738     816.808838    4436.157227    3021.816650   940.640076    3364.918701   \n",
              "2023-01-03  3829.036865     814.971191    4472.558105    3002.975098   961.319031    3391.045654   \n",
              "2023-01-04  3825.138916     804.591003    4415.192871    2991.670410   956.473999    3345.052979   \n",
              "2023-01-05  3827.887451     814.126831    4410.959961    2979.274658   948.581970    3409.358154   \n",
              "2023-01-06  3822.340332     800.716980    4369.530273    2953.541016   938.941895    3429.224121   \n",
              "\n",
              "Ticker      BAJAJFINSV.NS  BAJFINANCE.NS  BHARTIARTL.NS     BPCL.NS  ...  SUNPHARMA.NS  \\\n",
              "Date                                                                 ...                 \n",
              "2023-01-02    1550.864990    6498.406738     809.780334  315.272888  ...    980.493103   \n",
              "2023-01-03    1561.353882    6550.463379     813.861511  318.105957  ...    992.392822   \n",
              "2023-01-04    1546.219849    6515.511230     808.088074  317.586548  ...    987.475586   \n",
              "2023-01-05    1467.302979    6048.538086     803.409546  323.299896  ...    999.375244   \n",
              "2023-01-06    1428.843506    5929.898438     792.360352  325.519165  ...    991.999512   \n",
              "\n",
              "Ticker      TATACONSUM.NS  TATAMOTORS.NS  TATASTEEL.NS       TCS.NS    TECHM.NS     TITAN.NS  \\\n",
              "Date                                                                                           \n",
              "2023-01-02     754.002380     393.573334    115.480904  3142.139404  948.204895  2557.464111   \n",
              "2023-01-03     758.799622     392.676147    114.706184  3190.213867  961.636597  2605.159668   \n",
              "2023-01-04     753.952942     384.401947    112.091530  3193.393066  958.349121  2589.161377   \n",
              "2023-01-05     755.535522     385.697906    112.866241  3189.973145  950.224365  2553.825928   \n",
              "2023-01-06     753.062744     380.813110    111.994690  3094.064697  926.272705  2529.903564   \n",
              "\n",
              "Ticker      ULTRACEMCO.NS      UPL.NS    WIPRO.NS  \n",
              "Date                                               \n",
              "2023-01-02    6986.020996  710.338867  391.249847  \n",
              "2023-01-03    6961.781738  707.731628  395.231537  \n",
              "2023-01-04    6973.478516  704.091431  387.915222  \n",
              "2023-01-05    6975.120605  708.666260  385.128021  \n",
              "2023-01-06    6950.433594  706.551025  380.250488  \n",
              "\n",
              "[5 rows x 50 columns]"
            ],
            "text/html": [
              "\n",
              "  <div id=\"df-95029015-2421-45d8-9183-015e854a0576\" class=\"colab-df-container\">\n",
              "    <div>\n",
              "<style scoped>\n",
              "    .dataframe tbody tr th:only-of-type {\n",
              "        vertical-align: middle;\n",
              "    }\n",
              "\n",
              "    .dataframe tbody tr th {\n",
              "        vertical-align: top;\n",
              "    }\n",
              "\n",
              "    .dataframe thead th {\n",
              "        text-align: right;\n",
              "    }\n",
              "</style>\n",
              "<table border=\"1\" class=\"dataframe\">\n",
              "  <thead>\n",
              "    <tr style=\"text-align: right;\">\n",
              "      <th>Ticker</th>\n",
              "      <th>ADANIENT.NS</th>\n",
              "      <th>ADANIPORTS.NS</th>\n",
              "      <th>APOLLOHOSP.NS</th>\n",
              "      <th>ASIANPAINT.NS</th>\n",
              "      <th>AXISBANK.NS</th>\n",
              "      <th>BAJAJ-AUTO.NS</th>\n",
              "      <th>BAJAJFINSV.NS</th>\n",
              "      <th>BAJFINANCE.NS</th>\n",
              "      <th>BHARTIARTL.NS</th>\n",
              "      <th>BPCL.NS</th>\n",
              "      <th>...</th>\n",
              "      <th>SUNPHARMA.NS</th>\n",
              "      <th>TATACONSUM.NS</th>\n",
              "      <th>TATAMOTORS.NS</th>\n",
              "      <th>TATASTEEL.NS</th>\n",
              "      <th>TCS.NS</th>\n",
              "      <th>TECHM.NS</th>\n",
              "      <th>TITAN.NS</th>\n",
              "      <th>ULTRACEMCO.NS</th>\n",
              "      <th>UPL.NS</th>\n",
              "      <th>WIPRO.NS</th>\n",
              "    </tr>\n",
              "    <tr>\n",
              "      <th>Date</th>\n",
              "      <th></th>\n",
              "      <th></th>\n",
              "      <th></th>\n",
              "      <th></th>\n",
              "      <th></th>\n",
              "      <th></th>\n",
              "      <th></th>\n",
              "      <th></th>\n",
              "      <th></th>\n",
              "      <th></th>\n",
              "      <th></th>\n",
              "      <th></th>\n",
              "      <th></th>\n",
              "      <th></th>\n",
              "      <th></th>\n",
              "      <th></th>\n",
              "      <th></th>\n",
              "      <th></th>\n",
              "      <th></th>\n",
              "      <th></th>\n",
              "      <th></th>\n",
              "    </tr>\n",
              "  </thead>\n",
              "  <tbody>\n",
              "    <tr>\n",
              "      <th>2023-01-02</th>\n",
              "      <td>3839.281738</td>\n",
              "      <td>816.808838</td>\n",
              "      <td>4436.157227</td>\n",
              "      <td>3021.816650</td>\n",
              "      <td>940.640076</td>\n",
              "      <td>3364.918701</td>\n",
              "      <td>1550.864990</td>\n",
              "      <td>6498.406738</td>\n",
              "      <td>809.780334</td>\n",
              "      <td>315.272888</td>\n",
              "      <td>...</td>\n",
              "      <td>980.493103</td>\n",
              "      <td>754.002380</td>\n",
              "      <td>393.573334</td>\n",
              "      <td>115.480904</td>\n",
              "      <td>3142.139404</td>\n",
              "      <td>948.204895</td>\n",
              "      <td>2557.464111</td>\n",
              "      <td>6986.020996</td>\n",
              "      <td>710.338867</td>\n",
              "      <td>391.249847</td>\n",
              "    </tr>\n",
              "    <tr>\n",
              "      <th>2023-01-03</th>\n",
              "      <td>3829.036865</td>\n",
              "      <td>814.971191</td>\n",
              "      <td>4472.558105</td>\n",
              "      <td>3002.975098</td>\n",
              "      <td>961.319031</td>\n",
              "      <td>3391.045654</td>\n",
              "      <td>1561.353882</td>\n",
              "      <td>6550.463379</td>\n",
              "      <td>813.861511</td>\n",
              "      <td>318.105957</td>\n",
              "      <td>...</td>\n",
              "      <td>992.392822</td>\n",
              "      <td>758.799622</td>\n",
              "      <td>392.676147</td>\n",
              "      <td>114.706184</td>\n",
              "      <td>3190.213867</td>\n",
              "      <td>961.636597</td>\n",
              "      <td>2605.159668</td>\n",
              "      <td>6961.781738</td>\n",
              "      <td>707.731628</td>\n",
              "      <td>395.231537</td>\n",
              "    </tr>\n",
              "    <tr>\n",
              "      <th>2023-01-04</th>\n",
              "      <td>3825.138916</td>\n",
              "      <td>804.591003</td>\n",
              "      <td>4415.192871</td>\n",
              "      <td>2991.670410</td>\n",
              "      <td>956.473999</td>\n",
              "      <td>3345.052979</td>\n",
              "      <td>1546.219849</td>\n",
              "      <td>6515.511230</td>\n",
              "      <td>808.088074</td>\n",
              "      <td>317.586548</td>\n",
              "      <td>...</td>\n",
              "      <td>987.475586</td>\n",
              "      <td>753.952942</td>\n",
              "      <td>384.401947</td>\n",
              "      <td>112.091530</td>\n",
              "      <td>3193.393066</td>\n",
              "      <td>958.349121</td>\n",
              "      <td>2589.161377</td>\n",
              "      <td>6973.478516</td>\n",
              "      <td>704.091431</td>\n",
              "      <td>387.915222</td>\n",
              "    </tr>\n",
              "    <tr>\n",
              "      <th>2023-01-05</th>\n",
              "      <td>3827.887451</td>\n",
              "      <td>814.126831</td>\n",
              "      <td>4410.959961</td>\n",
              "      <td>2979.274658</td>\n",
              "      <td>948.581970</td>\n",
              "      <td>3409.358154</td>\n",
              "      <td>1467.302979</td>\n",
              "      <td>6048.538086</td>\n",
              "      <td>803.409546</td>\n",
              "      <td>323.299896</td>\n",
              "      <td>...</td>\n",
              "      <td>999.375244</td>\n",
              "      <td>755.535522</td>\n",
              "      <td>385.697906</td>\n",
              "      <td>112.866241</td>\n",
              "      <td>3189.973145</td>\n",
              "      <td>950.224365</td>\n",
              "      <td>2553.825928</td>\n",
              "      <td>6975.120605</td>\n",
              "      <td>708.666260</td>\n",
              "      <td>385.128021</td>\n",
              "    </tr>\n",
              "    <tr>\n",
              "      <th>2023-01-06</th>\n",
              "      <td>3822.340332</td>\n",
              "      <td>800.716980</td>\n",
              "      <td>4369.530273</td>\n",
              "      <td>2953.541016</td>\n",
              "      <td>938.941895</td>\n",
              "      <td>3429.224121</td>\n",
              "      <td>1428.843506</td>\n",
              "      <td>5929.898438</td>\n",
              "      <td>792.360352</td>\n",
              "      <td>325.519165</td>\n",
              "      <td>...</td>\n",
              "      <td>991.999512</td>\n",
              "      <td>753.062744</td>\n",
              "      <td>380.813110</td>\n",
              "      <td>111.994690</td>\n",
              "      <td>3094.064697</td>\n",
              "      <td>926.272705</td>\n",
              "      <td>2529.903564</td>\n",
              "      <td>6950.433594</td>\n",
              "      <td>706.551025</td>\n",
              "      <td>380.250488</td>\n",
              "    </tr>\n",
              "  </tbody>\n",
              "</table>\n",
              "<p>5 rows × 50 columns</p>\n",
              "</div>\n",
              "    <div class=\"colab-df-buttons\">\n",
              "\n",
              "  <div class=\"colab-df-container\">\n",
              "    <button class=\"colab-df-convert\" onclick=\"convertToInteractive('df-95029015-2421-45d8-9183-015e854a0576')\"\n",
              "            title=\"Convert this dataframe to an interactive table.\"\n",
              "            style=\"display:none;\">\n",
              "\n",
              "  <svg xmlns=\"http://www.w3.org/2000/svg\" height=\"24px\" viewBox=\"0 -960 960 960\">\n",
              "    <path d=\"M120-120v-720h720v720H120Zm60-500h600v-160H180v160Zm220 220h160v-160H400v160Zm0 220h160v-160H400v160ZM180-400h160v-160H180v160Zm440 0h160v-160H620v160ZM180-180h160v-160H180v160Zm440 0h160v-160H620v160Z\"/>\n",
              "  </svg>\n",
              "    </button>\n",
              "\n",
              "  <style>\n",
              "    .colab-df-container {\n",
              "      display:flex;\n",
              "      gap: 12px;\n",
              "    }\n",
              "\n",
              "    .colab-df-convert {\n",
              "      background-color: #E8F0FE;\n",
              "      border: none;\n",
              "      border-radius: 50%;\n",
              "      cursor: pointer;\n",
              "      display: none;\n",
              "      fill: #1967D2;\n",
              "      height: 32px;\n",
              "      padding: 0 0 0 0;\n",
              "      width: 32px;\n",
              "    }\n",
              "\n",
              "    .colab-df-convert:hover {\n",
              "      background-color: #E2EBFA;\n",
              "      box-shadow: 0px 1px 2px rgba(60, 64, 67, 0.3), 0px 1px 3px 1px rgba(60, 64, 67, 0.15);\n",
              "      fill: #174EA6;\n",
              "    }\n",
              "\n",
              "    .colab-df-buttons div {\n",
              "      margin-bottom: 4px;\n",
              "    }\n",
              "\n",
              "    [theme=dark] .colab-df-convert {\n",
              "      background-color: #3B4455;\n",
              "      fill: #D2E3FC;\n",
              "    }\n",
              "\n",
              "    [theme=dark] .colab-df-convert:hover {\n",
              "      background-color: #434B5C;\n",
              "      box-shadow: 0px 1px 3px 1px rgba(0, 0, 0, 0.15);\n",
              "      filter: drop-shadow(0px 1px 2px rgba(0, 0, 0, 0.3));\n",
              "      fill: #FFFFFF;\n",
              "    }\n",
              "  </style>\n",
              "\n",
              "    <script>\n",
              "      const buttonEl =\n",
              "        document.querySelector('#df-95029015-2421-45d8-9183-015e854a0576 button.colab-df-convert');\n",
              "      buttonEl.style.display =\n",
              "        google.colab.kernel.accessAllowed ? 'block' : 'none';\n",
              "\n",
              "      async function convertToInteractive(key) {\n",
              "        const element = document.querySelector('#df-95029015-2421-45d8-9183-015e854a0576');\n",
              "        const dataTable =\n",
              "          await google.colab.kernel.invokeFunction('convertToInteractive',\n",
              "                                                    [key], {});\n",
              "        if (!dataTable) return;\n",
              "\n",
              "        const docLinkHtml = 'Like what you see? Visit the ' +\n",
              "          '<a target=\"_blank\" href=https://colab.research.google.com/notebooks/data_table.ipynb>data table notebook</a>'\n",
              "          + ' to learn more about interactive tables.';\n",
              "        element.innerHTML = '';\n",
              "        dataTable['output_type'] = 'display_data';\n",
              "        await google.colab.output.renderOutput(dataTable, element);\n",
              "        const docLink = document.createElement('div');\n",
              "        docLink.innerHTML = docLinkHtml;\n",
              "        element.appendChild(docLink);\n",
              "      }\n",
              "    </script>\n",
              "  </div>\n",
              "\n",
              "\n",
              "<div id=\"df-4997e2bc-636b-4299-aeaa-fd0ab854a4da\">\n",
              "  <button class=\"colab-df-quickchart\" onclick=\"quickchart('df-4997e2bc-636b-4299-aeaa-fd0ab854a4da')\"\n",
              "            title=\"Suggest charts\"\n",
              "            style=\"display:none;\">\n",
              "\n",
              "<svg xmlns=\"http://www.w3.org/2000/svg\" height=\"24px\"viewBox=\"0 0 24 24\"\n",
              "     width=\"24px\">\n",
              "    <g>\n",
              "        <path d=\"M19 3H5c-1.1 0-2 .9-2 2v14c0 1.1.9 2 2 2h14c1.1 0 2-.9 2-2V5c0-1.1-.9-2-2-2zM9 17H7v-7h2v7zm4 0h-2V7h2v10zm4 0h-2v-4h2v4z\"/>\n",
              "    </g>\n",
              "</svg>\n",
              "  </button>\n",
              "\n",
              "<style>\n",
              "  .colab-df-quickchart {\n",
              "      --bg-color: #E8F0FE;\n",
              "      --fill-color: #1967D2;\n",
              "      --hover-bg-color: #E2EBFA;\n",
              "      --hover-fill-color: #174EA6;\n",
              "      --disabled-fill-color: #AAA;\n",
              "      --disabled-bg-color: #DDD;\n",
              "  }\n",
              "\n",
              "  [theme=dark] .colab-df-quickchart {\n",
              "      --bg-color: #3B4455;\n",
              "      --fill-color: #D2E3FC;\n",
              "      --hover-bg-color: #434B5C;\n",
              "      --hover-fill-color: #FFFFFF;\n",
              "      --disabled-bg-color: #3B4455;\n",
              "      --disabled-fill-color: #666;\n",
              "  }\n",
              "\n",
              "  .colab-df-quickchart {\n",
              "    background-color: var(--bg-color);\n",
              "    border: none;\n",
              "    border-radius: 50%;\n",
              "    cursor: pointer;\n",
              "    display: none;\n",
              "    fill: var(--fill-color);\n",
              "    height: 32px;\n",
              "    padding: 0;\n",
              "    width: 32px;\n",
              "  }\n",
              "\n",
              "  .colab-df-quickchart:hover {\n",
              "    background-color: var(--hover-bg-color);\n",
              "    box-shadow: 0 1px 2px rgba(60, 64, 67, 0.3), 0 1px 3px 1px rgba(60, 64, 67, 0.15);\n",
              "    fill: var(--button-hover-fill-color);\n",
              "  }\n",
              "\n",
              "  .colab-df-quickchart-complete:disabled,\n",
              "  .colab-df-quickchart-complete:disabled:hover {\n",
              "    background-color: var(--disabled-bg-color);\n",
              "    fill: var(--disabled-fill-color);\n",
              "    box-shadow: none;\n",
              "  }\n",
              "\n",
              "  .colab-df-spinner {\n",
              "    border: 2px solid var(--fill-color);\n",
              "    border-color: transparent;\n",
              "    border-bottom-color: var(--fill-color);\n",
              "    animation:\n",
              "      spin 1s steps(1) infinite;\n",
              "  }\n",
              "\n",
              "  @keyframes spin {\n",
              "    0% {\n",
              "      border-color: transparent;\n",
              "      border-bottom-color: var(--fill-color);\n",
              "      border-left-color: var(--fill-color);\n",
              "    }\n",
              "    20% {\n",
              "      border-color: transparent;\n",
              "      border-left-color: var(--fill-color);\n",
              "      border-top-color: var(--fill-color);\n",
              "    }\n",
              "    30% {\n",
              "      border-color: transparent;\n",
              "      border-left-color: var(--fill-color);\n",
              "      border-top-color: var(--fill-color);\n",
              "      border-right-color: var(--fill-color);\n",
              "    }\n",
              "    40% {\n",
              "      border-color: transparent;\n",
              "      border-right-color: var(--fill-color);\n",
              "      border-top-color: var(--fill-color);\n",
              "    }\n",
              "    60% {\n",
              "      border-color: transparent;\n",
              "      border-right-color: var(--fill-color);\n",
              "    }\n",
              "    80% {\n",
              "      border-color: transparent;\n",
              "      border-right-color: var(--fill-color);\n",
              "      border-bottom-color: var(--fill-color);\n",
              "    }\n",
              "    90% {\n",
              "      border-color: transparent;\n",
              "      border-bottom-color: var(--fill-color);\n",
              "    }\n",
              "  }\n",
              "</style>\n",
              "\n",
              "  <script>\n",
              "    async function quickchart(key) {\n",
              "      const quickchartButtonEl =\n",
              "        document.querySelector('#' + key + ' button');\n",
              "      quickchartButtonEl.disabled = true;  // To prevent multiple clicks.\n",
              "      quickchartButtonEl.classList.add('colab-df-spinner');\n",
              "      try {\n",
              "        const charts = await google.colab.kernel.invokeFunction(\n",
              "            'suggestCharts', [key], {});\n",
              "      } catch (error) {\n",
              "        console.error('Error during call to suggestCharts:', error);\n",
              "      }\n",
              "      quickchartButtonEl.classList.remove('colab-df-spinner');\n",
              "      quickchartButtonEl.classList.add('colab-df-quickchart-complete');\n",
              "    }\n",
              "    (() => {\n",
              "      let quickchartButtonEl =\n",
              "        document.querySelector('#df-4997e2bc-636b-4299-aeaa-fd0ab854a4da button');\n",
              "      quickchartButtonEl.style.display =\n",
              "        google.colab.kernel.accessAllowed ? 'block' : 'none';\n",
              "    })();\n",
              "  </script>\n",
              "</div>\n",
              "\n",
              "    </div>\n",
              "  </div>\n"
            ],
            "application/vnd.google.colaboratory.intrinsic+json": {
              "type": "dataframe",
              "variable_name": "dataset"
            }
          },
          "metadata": {},
          "execution_count": 192
        }
      ],
      "source": [
        "# peek at data\n",
        "set_option('display.width', 100)\n",
        "dataset.head(5)"
      ]
    },
    {
      "cell_type": "code",
      "execution_count": 193,
      "metadata": {
        "_cell_guid": "7bffeec0-5bbc-fffb-18f2-3da56b862ca3",
        "id": "SwH_ln6rpE8q",
        "outputId": "04eb8b85-6e02-4977-f51c-5640b306d296",
        "colab": {
          "base_uri": "https://localhost:8080/",
          "height": 367
        }
      },
      "outputs": [
        {
          "output_type": "execute_result",
          "data": {
            "text/plain": [
              "Ticker  ADANIENT.NS  ADANIPORTS.NS  APOLLOHOSP.NS  ASIANPAINT.NS  AXISBANK.NS  BAJAJ-AUTO.NS  \\\n",
              "count    289.000000     289.000000     289.000000     289.000000   289.000000     289.000000   \n",
              "mean    2479.314533     826.052279    5038.365792    3079.687995   972.126348    5035.865545   \n",
              "std      546.177759     202.463786     643.777167     215.306148    85.299419    1365.302519   \n",
              "min     1192.904053     459.361847    4189.443359    2683.067627   823.209961    3331.118408   \n",
              "25%     2163.169189     695.325562    4448.406738    2884.868896   912.219116    4047.562500   \n",
              "50%     2455.922852     784.200012    4989.349121    3108.124268   971.500000    4691.549805   \n",
              "75%     2865.449951     835.549988    5361.962891    3253.620361  1027.150024    5631.500000   \n",
              "max     3853.374756    1338.300049    6774.049805    3537.524658  1136.949951    8509.700195   \n",
              "\n",
              "Ticker  BAJAJFINSV.NS  BAJFINANCE.NS  BHARTIARTL.NS     BPCL.NS  ...  SUNPHARMA.NS  TATACONSUM.NS  \\\n",
              "count      289.000000     289.000000     289.000000  289.000000  ...    289.000000     289.000000   \n",
              "mean      1507.576065    6876.789855     893.495545  376.356357  ...   1116.294585     869.440677   \n",
              "std        127.257434     679.792722     120.112764   84.000408  ...    162.817323     141.466243   \n",
              "min       1221.861816    5487.714355     736.715881  298.321716  ...    917.357605     680.066040   \n",
              "25%       1403.120605    6335.891113     784.994141  328.163330  ...    985.823792     753.952942   \n",
              "50%       1528.000000    7048.200195     873.500000  341.006561  ...   1102.713989     852.349976   \n",
              "75%       1614.300049    7411.500000     955.599976  374.315796  ...   1182.807495     927.700012   \n",
              "max       1733.150024    8168.549805    1189.949951  657.599976  ...   1582.750000    1207.250000   \n",
              "\n",
              "Ticker  TATAMOTORS.NS  TATASTEEL.NS       TCS.NS     TECHM.NS     TITAN.NS  ULTRACEMCO.NS  \\\n",
              "count      289.000000    289.000000   289.000000   289.000000   289.000000     289.000000   \n",
              "mean       605.845721    119.094589  3439.155348  1129.986216  3031.201811    8330.053762   \n",
              "std        150.374689     12.773405   271.188444   124.279871   446.790801     992.195826   \n",
              "min        380.813110     98.872955  3036.871826   926.272705  2300.646240    6674.594238   \n",
              "25%        471.530396    107.540085  3232.770020  1024.286743  2597.185547    7560.744141   \n",
              "50%        614.099976    118.150002  3374.739746  1131.303711  3035.714600    8207.349609   \n",
              "75%        674.299988    129.500000  3559.552979  1228.949951  3339.500000    8710.849609   \n",
              "max        988.349976    155.250000  4149.500000  1407.949951  3866.649902   10503.049805   \n",
              "\n",
              "Ticker      UPL.NS    WIPRO.NS  \n",
              "count   289.000000  289.000000  \n",
              "mean    630.011338  412.904966  \n",
              "std      72.450327   39.985959  \n",
              "min     457.950012  355.441986  \n",
              "25%     583.200012  387.523560  \n",
              "50%     622.500000  401.942780  \n",
              "75%     696.712585  418.756927  \n",
              "max     757.907898  543.000000  \n",
              "\n",
              "[8 rows x 50 columns]"
            ],
            "text/html": [
              "\n",
              "  <div id=\"df-504670a4-c30d-4129-ae25-c5de7877ae35\" class=\"colab-df-container\">\n",
              "    <div>\n",
              "<style scoped>\n",
              "    .dataframe tbody tr th:only-of-type {\n",
              "        vertical-align: middle;\n",
              "    }\n",
              "\n",
              "    .dataframe tbody tr th {\n",
              "        vertical-align: top;\n",
              "    }\n",
              "\n",
              "    .dataframe thead th {\n",
              "        text-align: right;\n",
              "    }\n",
              "</style>\n",
              "<table border=\"1\" class=\"dataframe\">\n",
              "  <thead>\n",
              "    <tr style=\"text-align: right;\">\n",
              "      <th>Ticker</th>\n",
              "      <th>ADANIENT.NS</th>\n",
              "      <th>ADANIPORTS.NS</th>\n",
              "      <th>APOLLOHOSP.NS</th>\n",
              "      <th>ASIANPAINT.NS</th>\n",
              "      <th>AXISBANK.NS</th>\n",
              "      <th>BAJAJ-AUTO.NS</th>\n",
              "      <th>BAJAJFINSV.NS</th>\n",
              "      <th>BAJFINANCE.NS</th>\n",
              "      <th>BHARTIARTL.NS</th>\n",
              "      <th>BPCL.NS</th>\n",
              "      <th>...</th>\n",
              "      <th>SUNPHARMA.NS</th>\n",
              "      <th>TATACONSUM.NS</th>\n",
              "      <th>TATAMOTORS.NS</th>\n",
              "      <th>TATASTEEL.NS</th>\n",
              "      <th>TCS.NS</th>\n",
              "      <th>TECHM.NS</th>\n",
              "      <th>TITAN.NS</th>\n",
              "      <th>ULTRACEMCO.NS</th>\n",
              "      <th>UPL.NS</th>\n",
              "      <th>WIPRO.NS</th>\n",
              "    </tr>\n",
              "  </thead>\n",
              "  <tbody>\n",
              "    <tr>\n",
              "      <th>count</th>\n",
              "      <td>289.000000</td>\n",
              "      <td>289.000000</td>\n",
              "      <td>289.000000</td>\n",
              "      <td>289.000000</td>\n",
              "      <td>289.000000</td>\n",
              "      <td>289.000000</td>\n",
              "      <td>289.000000</td>\n",
              "      <td>289.000000</td>\n",
              "      <td>289.000000</td>\n",
              "      <td>289.000000</td>\n",
              "      <td>...</td>\n",
              "      <td>289.000000</td>\n",
              "      <td>289.000000</td>\n",
              "      <td>289.000000</td>\n",
              "      <td>289.000000</td>\n",
              "      <td>289.000000</td>\n",
              "      <td>289.000000</td>\n",
              "      <td>289.000000</td>\n",
              "      <td>289.000000</td>\n",
              "      <td>289.000000</td>\n",
              "      <td>289.000000</td>\n",
              "    </tr>\n",
              "    <tr>\n",
              "      <th>mean</th>\n",
              "      <td>2479.314533</td>\n",
              "      <td>826.052279</td>\n",
              "      <td>5038.365792</td>\n",
              "      <td>3079.687995</td>\n",
              "      <td>972.126348</td>\n",
              "      <td>5035.865545</td>\n",
              "      <td>1507.576065</td>\n",
              "      <td>6876.789855</td>\n",
              "      <td>893.495545</td>\n",
              "      <td>376.356357</td>\n",
              "      <td>...</td>\n",
              "      <td>1116.294585</td>\n",
              "      <td>869.440677</td>\n",
              "      <td>605.845721</td>\n",
              "      <td>119.094589</td>\n",
              "      <td>3439.155348</td>\n",
              "      <td>1129.986216</td>\n",
              "      <td>3031.201811</td>\n",
              "      <td>8330.053762</td>\n",
              "      <td>630.011338</td>\n",
              "      <td>412.904966</td>\n",
              "    </tr>\n",
              "    <tr>\n",
              "      <th>std</th>\n",
              "      <td>546.177759</td>\n",
              "      <td>202.463786</td>\n",
              "      <td>643.777167</td>\n",
              "      <td>215.306148</td>\n",
              "      <td>85.299419</td>\n",
              "      <td>1365.302519</td>\n",
              "      <td>127.257434</td>\n",
              "      <td>679.792722</td>\n",
              "      <td>120.112764</td>\n",
              "      <td>84.000408</td>\n",
              "      <td>...</td>\n",
              "      <td>162.817323</td>\n",
              "      <td>141.466243</td>\n",
              "      <td>150.374689</td>\n",
              "      <td>12.773405</td>\n",
              "      <td>271.188444</td>\n",
              "      <td>124.279871</td>\n",
              "      <td>446.790801</td>\n",
              "      <td>992.195826</td>\n",
              "      <td>72.450327</td>\n",
              "      <td>39.985959</td>\n",
              "    </tr>\n",
              "    <tr>\n",
              "      <th>min</th>\n",
              "      <td>1192.904053</td>\n",
              "      <td>459.361847</td>\n",
              "      <td>4189.443359</td>\n",
              "      <td>2683.067627</td>\n",
              "      <td>823.209961</td>\n",
              "      <td>3331.118408</td>\n",
              "      <td>1221.861816</td>\n",
              "      <td>5487.714355</td>\n",
              "      <td>736.715881</td>\n",
              "      <td>298.321716</td>\n",
              "      <td>...</td>\n",
              "      <td>917.357605</td>\n",
              "      <td>680.066040</td>\n",
              "      <td>380.813110</td>\n",
              "      <td>98.872955</td>\n",
              "      <td>3036.871826</td>\n",
              "      <td>926.272705</td>\n",
              "      <td>2300.646240</td>\n",
              "      <td>6674.594238</td>\n",
              "      <td>457.950012</td>\n",
              "      <td>355.441986</td>\n",
              "    </tr>\n",
              "    <tr>\n",
              "      <th>25%</th>\n",
              "      <td>2163.169189</td>\n",
              "      <td>695.325562</td>\n",
              "      <td>4448.406738</td>\n",
              "      <td>2884.868896</td>\n",
              "      <td>912.219116</td>\n",
              "      <td>4047.562500</td>\n",
              "      <td>1403.120605</td>\n",
              "      <td>6335.891113</td>\n",
              "      <td>784.994141</td>\n",
              "      <td>328.163330</td>\n",
              "      <td>...</td>\n",
              "      <td>985.823792</td>\n",
              "      <td>753.952942</td>\n",
              "      <td>471.530396</td>\n",
              "      <td>107.540085</td>\n",
              "      <td>3232.770020</td>\n",
              "      <td>1024.286743</td>\n",
              "      <td>2597.185547</td>\n",
              "      <td>7560.744141</td>\n",
              "      <td>583.200012</td>\n",
              "      <td>387.523560</td>\n",
              "    </tr>\n",
              "    <tr>\n",
              "      <th>50%</th>\n",
              "      <td>2455.922852</td>\n",
              "      <td>784.200012</td>\n",
              "      <td>4989.349121</td>\n",
              "      <td>3108.124268</td>\n",
              "      <td>971.500000</td>\n",
              "      <td>4691.549805</td>\n",
              "      <td>1528.000000</td>\n",
              "      <td>7048.200195</td>\n",
              "      <td>873.500000</td>\n",
              "      <td>341.006561</td>\n",
              "      <td>...</td>\n",
              "      <td>1102.713989</td>\n",
              "      <td>852.349976</td>\n",
              "      <td>614.099976</td>\n",
              "      <td>118.150002</td>\n",
              "      <td>3374.739746</td>\n",
              "      <td>1131.303711</td>\n",
              "      <td>3035.714600</td>\n",
              "      <td>8207.349609</td>\n",
              "      <td>622.500000</td>\n",
              "      <td>401.942780</td>\n",
              "    </tr>\n",
              "    <tr>\n",
              "      <th>75%</th>\n",
              "      <td>2865.449951</td>\n",
              "      <td>835.549988</td>\n",
              "      <td>5361.962891</td>\n",
              "      <td>3253.620361</td>\n",
              "      <td>1027.150024</td>\n",
              "      <td>5631.500000</td>\n",
              "      <td>1614.300049</td>\n",
              "      <td>7411.500000</td>\n",
              "      <td>955.599976</td>\n",
              "      <td>374.315796</td>\n",
              "      <td>...</td>\n",
              "      <td>1182.807495</td>\n",
              "      <td>927.700012</td>\n",
              "      <td>674.299988</td>\n",
              "      <td>129.500000</td>\n",
              "      <td>3559.552979</td>\n",
              "      <td>1228.949951</td>\n",
              "      <td>3339.500000</td>\n",
              "      <td>8710.849609</td>\n",
              "      <td>696.712585</td>\n",
              "      <td>418.756927</td>\n",
              "    </tr>\n",
              "    <tr>\n",
              "      <th>max</th>\n",
              "      <td>3853.374756</td>\n",
              "      <td>1338.300049</td>\n",
              "      <td>6774.049805</td>\n",
              "      <td>3537.524658</td>\n",
              "      <td>1136.949951</td>\n",
              "      <td>8509.700195</td>\n",
              "      <td>1733.150024</td>\n",
              "      <td>8168.549805</td>\n",
              "      <td>1189.949951</td>\n",
              "      <td>657.599976</td>\n",
              "      <td>...</td>\n",
              "      <td>1582.750000</td>\n",
              "      <td>1207.250000</td>\n",
              "      <td>988.349976</td>\n",
              "      <td>155.250000</td>\n",
              "      <td>4149.500000</td>\n",
              "      <td>1407.949951</td>\n",
              "      <td>3866.649902</td>\n",
              "      <td>10503.049805</td>\n",
              "      <td>757.907898</td>\n",
              "      <td>543.000000</td>\n",
              "    </tr>\n",
              "  </tbody>\n",
              "</table>\n",
              "<p>8 rows × 50 columns</p>\n",
              "</div>\n",
              "    <div class=\"colab-df-buttons\">\n",
              "\n",
              "  <div class=\"colab-df-container\">\n",
              "    <button class=\"colab-df-convert\" onclick=\"convertToInteractive('df-504670a4-c30d-4129-ae25-c5de7877ae35')\"\n",
              "            title=\"Convert this dataframe to an interactive table.\"\n",
              "            style=\"display:none;\">\n",
              "\n",
              "  <svg xmlns=\"http://www.w3.org/2000/svg\" height=\"24px\" viewBox=\"0 -960 960 960\">\n",
              "    <path d=\"M120-120v-720h720v720H120Zm60-500h600v-160H180v160Zm220 220h160v-160H400v160Zm0 220h160v-160H400v160ZM180-400h160v-160H180v160Zm440 0h160v-160H620v160ZM180-180h160v-160H180v160Zm440 0h160v-160H620v160Z\"/>\n",
              "  </svg>\n",
              "    </button>\n",
              "\n",
              "  <style>\n",
              "    .colab-df-container {\n",
              "      display:flex;\n",
              "      gap: 12px;\n",
              "    }\n",
              "\n",
              "    .colab-df-convert {\n",
              "      background-color: #E8F0FE;\n",
              "      border: none;\n",
              "      border-radius: 50%;\n",
              "      cursor: pointer;\n",
              "      display: none;\n",
              "      fill: #1967D2;\n",
              "      height: 32px;\n",
              "      padding: 0 0 0 0;\n",
              "      width: 32px;\n",
              "    }\n",
              "\n",
              "    .colab-df-convert:hover {\n",
              "      background-color: #E2EBFA;\n",
              "      box-shadow: 0px 1px 2px rgba(60, 64, 67, 0.3), 0px 1px 3px 1px rgba(60, 64, 67, 0.15);\n",
              "      fill: #174EA6;\n",
              "    }\n",
              "\n",
              "    .colab-df-buttons div {\n",
              "      margin-bottom: 4px;\n",
              "    }\n",
              "\n",
              "    [theme=dark] .colab-df-convert {\n",
              "      background-color: #3B4455;\n",
              "      fill: #D2E3FC;\n",
              "    }\n",
              "\n",
              "    [theme=dark] .colab-df-convert:hover {\n",
              "      background-color: #434B5C;\n",
              "      box-shadow: 0px 1px 3px 1px rgba(0, 0, 0, 0.15);\n",
              "      filter: drop-shadow(0px 1px 2px rgba(0, 0, 0, 0.3));\n",
              "      fill: #FFFFFF;\n",
              "    }\n",
              "  </style>\n",
              "\n",
              "    <script>\n",
              "      const buttonEl =\n",
              "        document.querySelector('#df-504670a4-c30d-4129-ae25-c5de7877ae35 button.colab-df-convert');\n",
              "      buttonEl.style.display =\n",
              "        google.colab.kernel.accessAllowed ? 'block' : 'none';\n",
              "\n",
              "      async function convertToInteractive(key) {\n",
              "        const element = document.querySelector('#df-504670a4-c30d-4129-ae25-c5de7877ae35');\n",
              "        const dataTable =\n",
              "          await google.colab.kernel.invokeFunction('convertToInteractive',\n",
              "                                                    [key], {});\n",
              "        if (!dataTable) return;\n",
              "\n",
              "        const docLinkHtml = 'Like what you see? Visit the ' +\n",
              "          '<a target=\"_blank\" href=https://colab.research.google.com/notebooks/data_table.ipynb>data table notebook</a>'\n",
              "          + ' to learn more about interactive tables.';\n",
              "        element.innerHTML = '';\n",
              "        dataTable['output_type'] = 'display_data';\n",
              "        await google.colab.output.renderOutput(dataTable, element);\n",
              "        const docLink = document.createElement('div');\n",
              "        docLink.innerHTML = docLinkHtml;\n",
              "        element.appendChild(docLink);\n",
              "      }\n",
              "    </script>\n",
              "  </div>\n",
              "\n",
              "\n",
              "<div id=\"df-09985403-203c-41a7-ba39-b92eb7733c7f\">\n",
              "  <button class=\"colab-df-quickchart\" onclick=\"quickchart('df-09985403-203c-41a7-ba39-b92eb7733c7f')\"\n",
              "            title=\"Suggest charts\"\n",
              "            style=\"display:none;\">\n",
              "\n",
              "<svg xmlns=\"http://www.w3.org/2000/svg\" height=\"24px\"viewBox=\"0 0 24 24\"\n",
              "     width=\"24px\">\n",
              "    <g>\n",
              "        <path d=\"M19 3H5c-1.1 0-2 .9-2 2v14c0 1.1.9 2 2 2h14c1.1 0 2-.9 2-2V5c0-1.1-.9-2-2-2zM9 17H7v-7h2v7zm4 0h-2V7h2v10zm4 0h-2v-4h2v4z\"/>\n",
              "    </g>\n",
              "</svg>\n",
              "  </button>\n",
              "\n",
              "<style>\n",
              "  .colab-df-quickchart {\n",
              "      --bg-color: #E8F0FE;\n",
              "      --fill-color: #1967D2;\n",
              "      --hover-bg-color: #E2EBFA;\n",
              "      --hover-fill-color: #174EA6;\n",
              "      --disabled-fill-color: #AAA;\n",
              "      --disabled-bg-color: #DDD;\n",
              "  }\n",
              "\n",
              "  [theme=dark] .colab-df-quickchart {\n",
              "      --bg-color: #3B4455;\n",
              "      --fill-color: #D2E3FC;\n",
              "      --hover-bg-color: #434B5C;\n",
              "      --hover-fill-color: #FFFFFF;\n",
              "      --disabled-bg-color: #3B4455;\n",
              "      --disabled-fill-color: #666;\n",
              "  }\n",
              "\n",
              "  .colab-df-quickchart {\n",
              "    background-color: var(--bg-color);\n",
              "    border: none;\n",
              "    border-radius: 50%;\n",
              "    cursor: pointer;\n",
              "    display: none;\n",
              "    fill: var(--fill-color);\n",
              "    height: 32px;\n",
              "    padding: 0;\n",
              "    width: 32px;\n",
              "  }\n",
              "\n",
              "  .colab-df-quickchart:hover {\n",
              "    background-color: var(--hover-bg-color);\n",
              "    box-shadow: 0 1px 2px rgba(60, 64, 67, 0.3), 0 1px 3px 1px rgba(60, 64, 67, 0.15);\n",
              "    fill: var(--button-hover-fill-color);\n",
              "  }\n",
              "\n",
              "  .colab-df-quickchart-complete:disabled,\n",
              "  .colab-df-quickchart-complete:disabled:hover {\n",
              "    background-color: var(--disabled-bg-color);\n",
              "    fill: var(--disabled-fill-color);\n",
              "    box-shadow: none;\n",
              "  }\n",
              "\n",
              "  .colab-df-spinner {\n",
              "    border: 2px solid var(--fill-color);\n",
              "    border-color: transparent;\n",
              "    border-bottom-color: var(--fill-color);\n",
              "    animation:\n",
              "      spin 1s steps(1) infinite;\n",
              "  }\n",
              "\n",
              "  @keyframes spin {\n",
              "    0% {\n",
              "      border-color: transparent;\n",
              "      border-bottom-color: var(--fill-color);\n",
              "      border-left-color: var(--fill-color);\n",
              "    }\n",
              "    20% {\n",
              "      border-color: transparent;\n",
              "      border-left-color: var(--fill-color);\n",
              "      border-top-color: var(--fill-color);\n",
              "    }\n",
              "    30% {\n",
              "      border-color: transparent;\n",
              "      border-left-color: var(--fill-color);\n",
              "      border-top-color: var(--fill-color);\n",
              "      border-right-color: var(--fill-color);\n",
              "    }\n",
              "    40% {\n",
              "      border-color: transparent;\n",
              "      border-right-color: var(--fill-color);\n",
              "      border-top-color: var(--fill-color);\n",
              "    }\n",
              "    60% {\n",
              "      border-color: transparent;\n",
              "      border-right-color: var(--fill-color);\n",
              "    }\n",
              "    80% {\n",
              "      border-color: transparent;\n",
              "      border-right-color: var(--fill-color);\n",
              "      border-bottom-color: var(--fill-color);\n",
              "    }\n",
              "    90% {\n",
              "      border-color: transparent;\n",
              "      border-bottom-color: var(--fill-color);\n",
              "    }\n",
              "  }\n",
              "</style>\n",
              "\n",
              "  <script>\n",
              "    async function quickchart(key) {\n",
              "      const quickchartButtonEl =\n",
              "        document.querySelector('#' + key + ' button');\n",
              "      quickchartButtonEl.disabled = true;  // To prevent multiple clicks.\n",
              "      quickchartButtonEl.classList.add('colab-df-spinner');\n",
              "      try {\n",
              "        const charts = await google.colab.kernel.invokeFunction(\n",
              "            'suggestCharts', [key], {});\n",
              "      } catch (error) {\n",
              "        console.error('Error during call to suggestCharts:', error);\n",
              "      }\n",
              "      quickchartButtonEl.classList.remove('colab-df-spinner');\n",
              "      quickchartButtonEl.classList.add('colab-df-quickchart-complete');\n",
              "    }\n",
              "    (() => {\n",
              "      let quickchartButtonEl =\n",
              "        document.querySelector('#df-09985403-203c-41a7-ba39-b92eb7733c7f button');\n",
              "      quickchartButtonEl.style.display =\n",
              "        google.colab.kernel.accessAllowed ? 'block' : 'none';\n",
              "    })();\n",
              "  </script>\n",
              "</div>\n",
              "\n",
              "    </div>\n",
              "  </div>\n"
            ],
            "application/vnd.google.colaboratory.intrinsic+json": {
              "type": "dataframe"
            }
          },
          "metadata": {},
          "execution_count": 193
        }
      ],
      "source": [
        "dataset.describe()"
      ]
    },
    {
      "cell_type": "markdown",
      "metadata": {
        "id": "qBaxYQtjpE8q"
      },
      "source": [
        "<a id='2.2'></a>\n",
        "## 3.2. Data Visualization"
      ]
    },
    {
      "cell_type": "markdown",
      "metadata": {
        "id": "qGgnYoZppE8q"
      },
      "source": [
        "We will take a detailed look into the visualization post clustering."
      ]
    },
    {
      "cell_type": "markdown",
      "metadata": {
        "id": "PeyomFs-pE8q"
      },
      "source": [
        "<a id='3'></a>\n",
        "## 4. Data Preparation"
      ]
    },
    {
      "cell_type": "markdown",
      "metadata": {
        "id": "RwaS8p_vpE8q"
      },
      "source": [
        "<a id='3.1'></a>\n",
        "## 4.1. Data Cleaning\n",
        "We check for the NAs in the rows, either drop them or fill them with the mean of the column."
      ]
    },
    {
      "cell_type": "code",
      "execution_count": 194,
      "metadata": {
        "id": "EiWgQak8pE8r",
        "outputId": "ffbc7b0f-9a45-49b4-d90f-d16954d0bb39",
        "colab": {
          "base_uri": "https://localhost:8080/"
        }
      },
      "outputs": [
        {
          "output_type": "stream",
          "name": "stdout",
          "text": [
            "Null Values = False\n"
          ]
        }
      ],
      "source": [
        "#Checking for any null values and removing the null values'''\n",
        "print('Null Values =',dataset.isnull().values.any())"
      ]
    },
    {
      "cell_type": "markdown",
      "metadata": {
        "id": "FA7WMgnOpE8r"
      },
      "source": [
        "Getting rid of the columns with more than 30% missing values."
      ]
    },
    {
      "cell_type": "code",
      "execution_count": 195,
      "metadata": {
        "id": "ckOuEpqUpE8r",
        "outputId": "0f04950e-b5a0-4a42-aa48-25c6f968ffca",
        "colab": {
          "base_uri": "https://localhost:8080/"
        }
      },
      "outputs": [
        {
          "output_type": "execute_result",
          "data": {
            "text/plain": [
              "(289, 50)"
            ]
          },
          "metadata": {},
          "execution_count": 195
        }
      ],
      "source": [
        "missing_fractions = dataset.isnull().mean().sort_values(ascending=False)\n",
        "\n",
        "missing_fractions.head(10)\n",
        "\n",
        "drop_list = sorted(list(missing_fractions[missing_fractions > 0.3].index))\n",
        "\n",
        "dataset.drop(labels=drop_list, axis=1, inplace=True)\n",
        "dataset.shape"
      ]
    },
    {
      "cell_type": "markdown",
      "metadata": {
        "id": "AIc-sr_apE8r"
      },
      "source": [
        "Given that there are null values drop the rown contianing the null values."
      ]
    },
    {
      "cell_type": "code",
      "execution_count": 196,
      "metadata": {
        "id": "BAemmICypE8r",
        "outputId": "9420a579-5400-469e-89aa-6d290b64265a",
        "colab": {
          "base_uri": "https://localhost:8080/",
          "height": 244
        }
      },
      "outputs": [
        {
          "output_type": "execute_result",
          "data": {
            "text/plain": [
              "Ticker      ADANIENT.NS  ADANIPORTS.NS  APOLLOHOSP.NS  ASIANPAINT.NS  AXISBANK.NS  BAJAJ-AUTO.NS  \\\n",
              "Date                                                                                               \n",
              "2023-01-02  3839.281738     816.808838    4436.157227    3021.816650   940.640076    3364.918701   \n",
              "2023-01-03  3829.036865     814.971191    4472.558105    3002.975098   961.319031    3391.045654   \n",
              "\n",
              "Ticker      BAJAJFINSV.NS  BAJFINANCE.NS  BHARTIARTL.NS     BPCL.NS  ...  SUNPHARMA.NS  \\\n",
              "Date                                                                 ...                 \n",
              "2023-01-02    1550.864990    6498.406738     809.780334  315.272888  ...    980.493103   \n",
              "2023-01-03    1561.353882    6550.463379     813.861511  318.105957  ...    992.392822   \n",
              "\n",
              "Ticker      TATACONSUM.NS  TATAMOTORS.NS  TATASTEEL.NS       TCS.NS    TECHM.NS     TITAN.NS  \\\n",
              "Date                                                                                           \n",
              "2023-01-02     754.002380     393.573334    115.480904  3142.139404  948.204895  2557.464111   \n",
              "2023-01-03     758.799622     392.676147    114.706184  3190.213867  961.636597  2605.159668   \n",
              "\n",
              "Ticker      ULTRACEMCO.NS      UPL.NS    WIPRO.NS  \n",
              "Date                                               \n",
              "2023-01-02    6986.020996  710.338867  391.249847  \n",
              "2023-01-03    6961.781738  707.731628  395.231537  \n",
              "\n",
              "[2 rows x 50 columns]"
            ],
            "text/html": [
              "\n",
              "  <div id=\"df-3f3dda14-e228-436c-a191-90e9314bbbee\" class=\"colab-df-container\">\n",
              "    <div>\n",
              "<style scoped>\n",
              "    .dataframe tbody tr th:only-of-type {\n",
              "        vertical-align: middle;\n",
              "    }\n",
              "\n",
              "    .dataframe tbody tr th {\n",
              "        vertical-align: top;\n",
              "    }\n",
              "\n",
              "    .dataframe thead th {\n",
              "        text-align: right;\n",
              "    }\n",
              "</style>\n",
              "<table border=\"1\" class=\"dataframe\">\n",
              "  <thead>\n",
              "    <tr style=\"text-align: right;\">\n",
              "      <th>Ticker</th>\n",
              "      <th>ADANIENT.NS</th>\n",
              "      <th>ADANIPORTS.NS</th>\n",
              "      <th>APOLLOHOSP.NS</th>\n",
              "      <th>ASIANPAINT.NS</th>\n",
              "      <th>AXISBANK.NS</th>\n",
              "      <th>BAJAJ-AUTO.NS</th>\n",
              "      <th>BAJAJFINSV.NS</th>\n",
              "      <th>BAJFINANCE.NS</th>\n",
              "      <th>BHARTIARTL.NS</th>\n",
              "      <th>BPCL.NS</th>\n",
              "      <th>...</th>\n",
              "      <th>SUNPHARMA.NS</th>\n",
              "      <th>TATACONSUM.NS</th>\n",
              "      <th>TATAMOTORS.NS</th>\n",
              "      <th>TATASTEEL.NS</th>\n",
              "      <th>TCS.NS</th>\n",
              "      <th>TECHM.NS</th>\n",
              "      <th>TITAN.NS</th>\n",
              "      <th>ULTRACEMCO.NS</th>\n",
              "      <th>UPL.NS</th>\n",
              "      <th>WIPRO.NS</th>\n",
              "    </tr>\n",
              "    <tr>\n",
              "      <th>Date</th>\n",
              "      <th></th>\n",
              "      <th></th>\n",
              "      <th></th>\n",
              "      <th></th>\n",
              "      <th></th>\n",
              "      <th></th>\n",
              "      <th></th>\n",
              "      <th></th>\n",
              "      <th></th>\n",
              "      <th></th>\n",
              "      <th></th>\n",
              "      <th></th>\n",
              "      <th></th>\n",
              "      <th></th>\n",
              "      <th></th>\n",
              "      <th></th>\n",
              "      <th></th>\n",
              "      <th></th>\n",
              "      <th></th>\n",
              "      <th></th>\n",
              "      <th></th>\n",
              "    </tr>\n",
              "  </thead>\n",
              "  <tbody>\n",
              "    <tr>\n",
              "      <th>2023-01-02</th>\n",
              "      <td>3839.281738</td>\n",
              "      <td>816.808838</td>\n",
              "      <td>4436.157227</td>\n",
              "      <td>3021.816650</td>\n",
              "      <td>940.640076</td>\n",
              "      <td>3364.918701</td>\n",
              "      <td>1550.864990</td>\n",
              "      <td>6498.406738</td>\n",
              "      <td>809.780334</td>\n",
              "      <td>315.272888</td>\n",
              "      <td>...</td>\n",
              "      <td>980.493103</td>\n",
              "      <td>754.002380</td>\n",
              "      <td>393.573334</td>\n",
              "      <td>115.480904</td>\n",
              "      <td>3142.139404</td>\n",
              "      <td>948.204895</td>\n",
              "      <td>2557.464111</td>\n",
              "      <td>6986.020996</td>\n",
              "      <td>710.338867</td>\n",
              "      <td>391.249847</td>\n",
              "    </tr>\n",
              "    <tr>\n",
              "      <th>2023-01-03</th>\n",
              "      <td>3829.036865</td>\n",
              "      <td>814.971191</td>\n",
              "      <td>4472.558105</td>\n",
              "      <td>3002.975098</td>\n",
              "      <td>961.319031</td>\n",
              "      <td>3391.045654</td>\n",
              "      <td>1561.353882</td>\n",
              "      <td>6550.463379</td>\n",
              "      <td>813.861511</td>\n",
              "      <td>318.105957</td>\n",
              "      <td>...</td>\n",
              "      <td>992.392822</td>\n",
              "      <td>758.799622</td>\n",
              "      <td>392.676147</td>\n",
              "      <td>114.706184</td>\n",
              "      <td>3190.213867</td>\n",
              "      <td>961.636597</td>\n",
              "      <td>2605.159668</td>\n",
              "      <td>6961.781738</td>\n",
              "      <td>707.731628</td>\n",
              "      <td>395.231537</td>\n",
              "    </tr>\n",
              "  </tbody>\n",
              "</table>\n",
              "<p>2 rows × 50 columns</p>\n",
              "</div>\n",
              "    <div class=\"colab-df-buttons\">\n",
              "\n",
              "  <div class=\"colab-df-container\">\n",
              "    <button class=\"colab-df-convert\" onclick=\"convertToInteractive('df-3f3dda14-e228-436c-a191-90e9314bbbee')\"\n",
              "            title=\"Convert this dataframe to an interactive table.\"\n",
              "            style=\"display:none;\">\n",
              "\n",
              "  <svg xmlns=\"http://www.w3.org/2000/svg\" height=\"24px\" viewBox=\"0 -960 960 960\">\n",
              "    <path d=\"M120-120v-720h720v720H120Zm60-500h600v-160H180v160Zm220 220h160v-160H400v160Zm0 220h160v-160H400v160ZM180-400h160v-160H180v160Zm440 0h160v-160H620v160ZM180-180h160v-160H180v160Zm440 0h160v-160H620v160Z\"/>\n",
              "  </svg>\n",
              "    </button>\n",
              "\n",
              "  <style>\n",
              "    .colab-df-container {\n",
              "      display:flex;\n",
              "      gap: 12px;\n",
              "    }\n",
              "\n",
              "    .colab-df-convert {\n",
              "      background-color: #E8F0FE;\n",
              "      border: none;\n",
              "      border-radius: 50%;\n",
              "      cursor: pointer;\n",
              "      display: none;\n",
              "      fill: #1967D2;\n",
              "      height: 32px;\n",
              "      padding: 0 0 0 0;\n",
              "      width: 32px;\n",
              "    }\n",
              "\n",
              "    .colab-df-convert:hover {\n",
              "      background-color: #E2EBFA;\n",
              "      box-shadow: 0px 1px 2px rgba(60, 64, 67, 0.3), 0px 1px 3px 1px rgba(60, 64, 67, 0.15);\n",
              "      fill: #174EA6;\n",
              "    }\n",
              "\n",
              "    .colab-df-buttons div {\n",
              "      margin-bottom: 4px;\n",
              "    }\n",
              "\n",
              "    [theme=dark] .colab-df-convert {\n",
              "      background-color: #3B4455;\n",
              "      fill: #D2E3FC;\n",
              "    }\n",
              "\n",
              "    [theme=dark] .colab-df-convert:hover {\n",
              "      background-color: #434B5C;\n",
              "      box-shadow: 0px 1px 3px 1px rgba(0, 0, 0, 0.15);\n",
              "      filter: drop-shadow(0px 1px 2px rgba(0, 0, 0, 0.3));\n",
              "      fill: #FFFFFF;\n",
              "    }\n",
              "  </style>\n",
              "\n",
              "    <script>\n",
              "      const buttonEl =\n",
              "        document.querySelector('#df-3f3dda14-e228-436c-a191-90e9314bbbee button.colab-df-convert');\n",
              "      buttonEl.style.display =\n",
              "        google.colab.kernel.accessAllowed ? 'block' : 'none';\n",
              "\n",
              "      async function convertToInteractive(key) {\n",
              "        const element = document.querySelector('#df-3f3dda14-e228-436c-a191-90e9314bbbee');\n",
              "        const dataTable =\n",
              "          await google.colab.kernel.invokeFunction('convertToInteractive',\n",
              "                                                    [key], {});\n",
              "        if (!dataTable) return;\n",
              "\n",
              "        const docLinkHtml = 'Like what you see? Visit the ' +\n",
              "          '<a target=\"_blank\" href=https://colab.research.google.com/notebooks/data_table.ipynb>data table notebook</a>'\n",
              "          + ' to learn more about interactive tables.';\n",
              "        element.innerHTML = '';\n",
              "        dataTable['output_type'] = 'display_data';\n",
              "        await google.colab.output.renderOutput(dataTable, element);\n",
              "        const docLink = document.createElement('div');\n",
              "        docLink.innerHTML = docLinkHtml;\n",
              "        element.appendChild(docLink);\n",
              "      }\n",
              "    </script>\n",
              "  </div>\n",
              "\n",
              "\n",
              "<div id=\"df-0dd01acb-dc45-4830-851f-2928ab951c79\">\n",
              "  <button class=\"colab-df-quickchart\" onclick=\"quickchart('df-0dd01acb-dc45-4830-851f-2928ab951c79')\"\n",
              "            title=\"Suggest charts\"\n",
              "            style=\"display:none;\">\n",
              "\n",
              "<svg xmlns=\"http://www.w3.org/2000/svg\" height=\"24px\"viewBox=\"0 0 24 24\"\n",
              "     width=\"24px\">\n",
              "    <g>\n",
              "        <path d=\"M19 3H5c-1.1 0-2 .9-2 2v14c0 1.1.9 2 2 2h14c1.1 0 2-.9 2-2V5c0-1.1-.9-2-2-2zM9 17H7v-7h2v7zm4 0h-2V7h2v10zm4 0h-2v-4h2v4z\"/>\n",
              "    </g>\n",
              "</svg>\n",
              "  </button>\n",
              "\n",
              "<style>\n",
              "  .colab-df-quickchart {\n",
              "      --bg-color: #E8F0FE;\n",
              "      --fill-color: #1967D2;\n",
              "      --hover-bg-color: #E2EBFA;\n",
              "      --hover-fill-color: #174EA6;\n",
              "      --disabled-fill-color: #AAA;\n",
              "      --disabled-bg-color: #DDD;\n",
              "  }\n",
              "\n",
              "  [theme=dark] .colab-df-quickchart {\n",
              "      --bg-color: #3B4455;\n",
              "      --fill-color: #D2E3FC;\n",
              "      --hover-bg-color: #434B5C;\n",
              "      --hover-fill-color: #FFFFFF;\n",
              "      --disabled-bg-color: #3B4455;\n",
              "      --disabled-fill-color: #666;\n",
              "  }\n",
              "\n",
              "  .colab-df-quickchart {\n",
              "    background-color: var(--bg-color);\n",
              "    border: none;\n",
              "    border-radius: 50%;\n",
              "    cursor: pointer;\n",
              "    display: none;\n",
              "    fill: var(--fill-color);\n",
              "    height: 32px;\n",
              "    padding: 0;\n",
              "    width: 32px;\n",
              "  }\n",
              "\n",
              "  .colab-df-quickchart:hover {\n",
              "    background-color: var(--hover-bg-color);\n",
              "    box-shadow: 0 1px 2px rgba(60, 64, 67, 0.3), 0 1px 3px 1px rgba(60, 64, 67, 0.15);\n",
              "    fill: var(--button-hover-fill-color);\n",
              "  }\n",
              "\n",
              "  .colab-df-quickchart-complete:disabled,\n",
              "  .colab-df-quickchart-complete:disabled:hover {\n",
              "    background-color: var(--disabled-bg-color);\n",
              "    fill: var(--disabled-fill-color);\n",
              "    box-shadow: none;\n",
              "  }\n",
              "\n",
              "  .colab-df-spinner {\n",
              "    border: 2px solid var(--fill-color);\n",
              "    border-color: transparent;\n",
              "    border-bottom-color: var(--fill-color);\n",
              "    animation:\n",
              "      spin 1s steps(1) infinite;\n",
              "  }\n",
              "\n",
              "  @keyframes spin {\n",
              "    0% {\n",
              "      border-color: transparent;\n",
              "      border-bottom-color: var(--fill-color);\n",
              "      border-left-color: var(--fill-color);\n",
              "    }\n",
              "    20% {\n",
              "      border-color: transparent;\n",
              "      border-left-color: var(--fill-color);\n",
              "      border-top-color: var(--fill-color);\n",
              "    }\n",
              "    30% {\n",
              "      border-color: transparent;\n",
              "      border-left-color: var(--fill-color);\n",
              "      border-top-color: var(--fill-color);\n",
              "      border-right-color: var(--fill-color);\n",
              "    }\n",
              "    40% {\n",
              "      border-color: transparent;\n",
              "      border-right-color: var(--fill-color);\n",
              "      border-top-color: var(--fill-color);\n",
              "    }\n",
              "    60% {\n",
              "      border-color: transparent;\n",
              "      border-right-color: var(--fill-color);\n",
              "    }\n",
              "    80% {\n",
              "      border-color: transparent;\n",
              "      border-right-color: var(--fill-color);\n",
              "      border-bottom-color: var(--fill-color);\n",
              "    }\n",
              "    90% {\n",
              "      border-color: transparent;\n",
              "      border-bottom-color: var(--fill-color);\n",
              "    }\n",
              "  }\n",
              "</style>\n",
              "\n",
              "  <script>\n",
              "    async function quickchart(key) {\n",
              "      const quickchartButtonEl =\n",
              "        document.querySelector('#' + key + ' button');\n",
              "      quickchartButtonEl.disabled = true;  // To prevent multiple clicks.\n",
              "      quickchartButtonEl.classList.add('colab-df-spinner');\n",
              "      try {\n",
              "        const charts = await google.colab.kernel.invokeFunction(\n",
              "            'suggestCharts', [key], {});\n",
              "      } catch (error) {\n",
              "        console.error('Error during call to suggestCharts:', error);\n",
              "      }\n",
              "      quickchartButtonEl.classList.remove('colab-df-spinner');\n",
              "      quickchartButtonEl.classList.add('colab-df-quickchart-complete');\n",
              "    }\n",
              "    (() => {\n",
              "      let quickchartButtonEl =\n",
              "        document.querySelector('#df-0dd01acb-dc45-4830-851f-2928ab951c79 button');\n",
              "      quickchartButtonEl.style.display =\n",
              "        google.colab.kernel.accessAllowed ? 'block' : 'none';\n",
              "    })();\n",
              "  </script>\n",
              "</div>\n",
              "\n",
              "    </div>\n",
              "  </div>\n"
            ],
            "application/vnd.google.colaboratory.intrinsic+json": {
              "type": "dataframe",
              "variable_name": "dataset"
            }
          },
          "metadata": {},
          "execution_count": 196
        }
      ],
      "source": [
        "# Fill the missing values with the last value available in the dataset.\n",
        "dataset=dataset.fillna(method='ffill')\n",
        "dataset.head(2)"
      ]
    },
    {
      "cell_type": "markdown",
      "metadata": {
        "id": "LgKG8l6jpE8r"
      },
      "source": [
        "<a id='3.2'></a>\n",
        "## 4.2. Data Transformation"
      ]
    },
    {
      "cell_type": "markdown",
      "metadata": {
        "id": "0AaLdY1CpE8r"
      },
      "source": [
        "For the purpose of clustering, we will be using annual\n",
        "returns and variance as the variables as they are the indicators of the stock performance and its volatility. Let us prepare the return and volatility variables from the\n",
        "data."
      ]
    },
    {
      "cell_type": "code",
      "execution_count": 198,
      "metadata": {
        "id": "9mrYq9ZQpE8s"
      },
      "outputs": [],
      "source": [
        "#Calculate average annual percentage return and volatilities over a theoretical one year period\n",
        "returns = dataset.pct_change().mean()\n",
        "returns = pd.DataFrame(returns)\n",
        "returns.columns = ['Returns']\n",
        "returns['Volatility'] = dataset.pct_change().std()*np.sqrt(252)\n",
        "returns['momentum']=dataset.pct_change(10).mean()\n",
        "data=returns\n",
        "#format the data as a numpy array to feed into the K-Means algorithm\n",
        "#data = np.asarray([np.asarray(returns['Returns']),np.asarray(returns['Volatility'])]).T"
      ]
    },
    {
      "cell_type": "markdown",
      "metadata": {
        "id": "oVyRsHk3pE8s"
      },
      "source": [
        "All the variables should be on the same scale before applying clustering, otherwise a feature with large values will dominate the result. We use StandardScaler in sklearn to standardize the dataset’s features onto unit scale (mean = 0 and variance = 1)."
      ]
    },
    {
      "cell_type": "code",
      "execution_count": 199,
      "metadata": {
        "id": "MFa_SsgRpE8s",
        "outputId": "f03649d6-6e1a-4672-beab-9a912e5cc5f0",
        "colab": {
          "base_uri": "https://localhost:8080/",
          "height": 143
        }
      },
      "outputs": [
        {
          "output_type": "execute_result",
          "data": {
            "text/plain": [
              "                Returns  Volatility  momentum\n",
              "Ticker                                       \n",
              "ADANIENT.NS   -0.647472    5.831205  -0.50964\n",
              "ADANIPORTS.NS  1.047583    2.594374   1.17545"
            ],
            "text/html": [
              "\n",
              "  <div id=\"df-9abc2ba0-cc81-4bc6-b475-762551b34297\" class=\"colab-df-container\">\n",
              "    <div>\n",
              "<style scoped>\n",
              "    .dataframe tbody tr th:only-of-type {\n",
              "        vertical-align: middle;\n",
              "    }\n",
              "\n",
              "    .dataframe tbody tr th {\n",
              "        vertical-align: top;\n",
              "    }\n",
              "\n",
              "    .dataframe thead th {\n",
              "        text-align: right;\n",
              "    }\n",
              "</style>\n",
              "<table border=\"1\" class=\"dataframe\">\n",
              "  <thead>\n",
              "    <tr style=\"text-align: right;\">\n",
              "      <th></th>\n",
              "      <th>Returns</th>\n",
              "      <th>Volatility</th>\n",
              "      <th>momentum</th>\n",
              "    </tr>\n",
              "    <tr>\n",
              "      <th>Ticker</th>\n",
              "      <th></th>\n",
              "      <th></th>\n",
              "      <th></th>\n",
              "    </tr>\n",
              "  </thead>\n",
              "  <tbody>\n",
              "    <tr>\n",
              "      <th>ADANIENT.NS</th>\n",
              "      <td>-0.647472</td>\n",
              "      <td>5.831205</td>\n",
              "      <td>-0.50964</td>\n",
              "    </tr>\n",
              "    <tr>\n",
              "      <th>ADANIPORTS.NS</th>\n",
              "      <td>1.047583</td>\n",
              "      <td>2.594374</td>\n",
              "      <td>1.17545</td>\n",
              "    </tr>\n",
              "  </tbody>\n",
              "</table>\n",
              "</div>\n",
              "    <div class=\"colab-df-buttons\">\n",
              "\n",
              "  <div class=\"colab-df-container\">\n",
              "    <button class=\"colab-df-convert\" onclick=\"convertToInteractive('df-9abc2ba0-cc81-4bc6-b475-762551b34297')\"\n",
              "            title=\"Convert this dataframe to an interactive table.\"\n",
              "            style=\"display:none;\">\n",
              "\n",
              "  <svg xmlns=\"http://www.w3.org/2000/svg\" height=\"24px\" viewBox=\"0 -960 960 960\">\n",
              "    <path d=\"M120-120v-720h720v720H120Zm60-500h600v-160H180v160Zm220 220h160v-160H400v160Zm0 220h160v-160H400v160ZM180-400h160v-160H180v160Zm440 0h160v-160H620v160ZM180-180h160v-160H180v160Zm440 0h160v-160H620v160Z\"/>\n",
              "  </svg>\n",
              "    </button>\n",
              "\n",
              "  <style>\n",
              "    .colab-df-container {\n",
              "      display:flex;\n",
              "      gap: 12px;\n",
              "    }\n",
              "\n",
              "    .colab-df-convert {\n",
              "      background-color: #E8F0FE;\n",
              "      border: none;\n",
              "      border-radius: 50%;\n",
              "      cursor: pointer;\n",
              "      display: none;\n",
              "      fill: #1967D2;\n",
              "      height: 32px;\n",
              "      padding: 0 0 0 0;\n",
              "      width: 32px;\n",
              "    }\n",
              "\n",
              "    .colab-df-convert:hover {\n",
              "      background-color: #E2EBFA;\n",
              "      box-shadow: 0px 1px 2px rgba(60, 64, 67, 0.3), 0px 1px 3px 1px rgba(60, 64, 67, 0.15);\n",
              "      fill: #174EA6;\n",
              "    }\n",
              "\n",
              "    .colab-df-buttons div {\n",
              "      margin-bottom: 4px;\n",
              "    }\n",
              "\n",
              "    [theme=dark] .colab-df-convert {\n",
              "      background-color: #3B4455;\n",
              "      fill: #D2E3FC;\n",
              "    }\n",
              "\n",
              "    [theme=dark] .colab-df-convert:hover {\n",
              "      background-color: #434B5C;\n",
              "      box-shadow: 0px 1px 3px 1px rgba(0, 0, 0, 0.15);\n",
              "      filter: drop-shadow(0px 1px 2px rgba(0, 0, 0, 0.3));\n",
              "      fill: #FFFFFF;\n",
              "    }\n",
              "  </style>\n",
              "\n",
              "    <script>\n",
              "      const buttonEl =\n",
              "        document.querySelector('#df-9abc2ba0-cc81-4bc6-b475-762551b34297 button.colab-df-convert');\n",
              "      buttonEl.style.display =\n",
              "        google.colab.kernel.accessAllowed ? 'block' : 'none';\n",
              "\n",
              "      async function convertToInteractive(key) {\n",
              "        const element = document.querySelector('#df-9abc2ba0-cc81-4bc6-b475-762551b34297');\n",
              "        const dataTable =\n",
              "          await google.colab.kernel.invokeFunction('convertToInteractive',\n",
              "                                                    [key], {});\n",
              "        if (!dataTable) return;\n",
              "\n",
              "        const docLinkHtml = 'Like what you see? Visit the ' +\n",
              "          '<a target=\"_blank\" href=https://colab.research.google.com/notebooks/data_table.ipynb>data table notebook</a>'\n",
              "          + ' to learn more about interactive tables.';\n",
              "        element.innerHTML = '';\n",
              "        dataTable['output_type'] = 'display_data';\n",
              "        await google.colab.output.renderOutput(dataTable, element);\n",
              "        const docLink = document.createElement('div');\n",
              "        docLink.innerHTML = docLinkHtml;\n",
              "        element.appendChild(docLink);\n",
              "      }\n",
              "    </script>\n",
              "  </div>\n",
              "\n",
              "\n",
              "<div id=\"df-214c3c1a-e525-45b8-9d14-70286a49e28a\">\n",
              "  <button class=\"colab-df-quickchart\" onclick=\"quickchart('df-214c3c1a-e525-45b8-9d14-70286a49e28a')\"\n",
              "            title=\"Suggest charts\"\n",
              "            style=\"display:none;\">\n",
              "\n",
              "<svg xmlns=\"http://www.w3.org/2000/svg\" height=\"24px\"viewBox=\"0 0 24 24\"\n",
              "     width=\"24px\">\n",
              "    <g>\n",
              "        <path d=\"M19 3H5c-1.1 0-2 .9-2 2v14c0 1.1.9 2 2 2h14c1.1 0 2-.9 2-2V5c0-1.1-.9-2-2-2zM9 17H7v-7h2v7zm4 0h-2V7h2v10zm4 0h-2v-4h2v4z\"/>\n",
              "    </g>\n",
              "</svg>\n",
              "  </button>\n",
              "\n",
              "<style>\n",
              "  .colab-df-quickchart {\n",
              "      --bg-color: #E8F0FE;\n",
              "      --fill-color: #1967D2;\n",
              "      --hover-bg-color: #E2EBFA;\n",
              "      --hover-fill-color: #174EA6;\n",
              "      --disabled-fill-color: #AAA;\n",
              "      --disabled-bg-color: #DDD;\n",
              "  }\n",
              "\n",
              "  [theme=dark] .colab-df-quickchart {\n",
              "      --bg-color: #3B4455;\n",
              "      --fill-color: #D2E3FC;\n",
              "      --hover-bg-color: #434B5C;\n",
              "      --hover-fill-color: #FFFFFF;\n",
              "      --disabled-bg-color: #3B4455;\n",
              "      --disabled-fill-color: #666;\n",
              "  }\n",
              "\n",
              "  .colab-df-quickchart {\n",
              "    background-color: var(--bg-color);\n",
              "    border: none;\n",
              "    border-radius: 50%;\n",
              "    cursor: pointer;\n",
              "    display: none;\n",
              "    fill: var(--fill-color);\n",
              "    height: 32px;\n",
              "    padding: 0;\n",
              "    width: 32px;\n",
              "  }\n",
              "\n",
              "  .colab-df-quickchart:hover {\n",
              "    background-color: var(--hover-bg-color);\n",
              "    box-shadow: 0 1px 2px rgba(60, 64, 67, 0.3), 0 1px 3px 1px rgba(60, 64, 67, 0.15);\n",
              "    fill: var(--button-hover-fill-color);\n",
              "  }\n",
              "\n",
              "  .colab-df-quickchart-complete:disabled,\n",
              "  .colab-df-quickchart-complete:disabled:hover {\n",
              "    background-color: var(--disabled-bg-color);\n",
              "    fill: var(--disabled-fill-color);\n",
              "    box-shadow: none;\n",
              "  }\n",
              "\n",
              "  .colab-df-spinner {\n",
              "    border: 2px solid var(--fill-color);\n",
              "    border-color: transparent;\n",
              "    border-bottom-color: var(--fill-color);\n",
              "    animation:\n",
              "      spin 1s steps(1) infinite;\n",
              "  }\n",
              "\n",
              "  @keyframes spin {\n",
              "    0% {\n",
              "      border-color: transparent;\n",
              "      border-bottom-color: var(--fill-color);\n",
              "      border-left-color: var(--fill-color);\n",
              "    }\n",
              "    20% {\n",
              "      border-color: transparent;\n",
              "      border-left-color: var(--fill-color);\n",
              "      border-top-color: var(--fill-color);\n",
              "    }\n",
              "    30% {\n",
              "      border-color: transparent;\n",
              "      border-left-color: var(--fill-color);\n",
              "      border-top-color: var(--fill-color);\n",
              "      border-right-color: var(--fill-color);\n",
              "    }\n",
              "    40% {\n",
              "      border-color: transparent;\n",
              "      border-right-color: var(--fill-color);\n",
              "      border-top-color: var(--fill-color);\n",
              "    }\n",
              "    60% {\n",
              "      border-color: transparent;\n",
              "      border-right-color: var(--fill-color);\n",
              "    }\n",
              "    80% {\n",
              "      border-color: transparent;\n",
              "      border-right-color: var(--fill-color);\n",
              "      border-bottom-color: var(--fill-color);\n",
              "    }\n",
              "    90% {\n",
              "      border-color: transparent;\n",
              "      border-bottom-color: var(--fill-color);\n",
              "    }\n",
              "  }\n",
              "</style>\n",
              "\n",
              "  <script>\n",
              "    async function quickchart(key) {\n",
              "      const quickchartButtonEl =\n",
              "        document.querySelector('#' + key + ' button');\n",
              "      quickchartButtonEl.disabled = true;  // To prevent multiple clicks.\n",
              "      quickchartButtonEl.classList.add('colab-df-spinner');\n",
              "      try {\n",
              "        const charts = await google.colab.kernel.invokeFunction(\n",
              "            'suggestCharts', [key], {});\n",
              "      } catch (error) {\n",
              "        console.error('Error during call to suggestCharts:', error);\n",
              "      }\n",
              "      quickchartButtonEl.classList.remove('colab-df-spinner');\n",
              "      quickchartButtonEl.classList.add('colab-df-quickchart-complete');\n",
              "    }\n",
              "    (() => {\n",
              "      let quickchartButtonEl =\n",
              "        document.querySelector('#df-214c3c1a-e525-45b8-9d14-70286a49e28a button');\n",
              "      quickchartButtonEl.style.display =\n",
              "        google.colab.kernel.accessAllowed ? 'block' : 'none';\n",
              "    })();\n",
              "  </script>\n",
              "</div>\n",
              "\n",
              "    </div>\n",
              "  </div>\n"
            ],
            "application/vnd.google.colaboratory.intrinsic+json": {
              "type": "dataframe",
              "variable_name": "X",
              "summary": "{\n  \"name\": \"X\",\n  \"rows\": 50,\n  \"fields\": [\n    {\n      \"column\": \"Returns\",\n      \"properties\": {\n        \"dtype\": \"number\",\n        \"std\": 1.0101525445522108,\n        \"min\": -2.6145659314197798,\n        \"max\": 2.3477486711264652,\n        \"num_unique_values\": 50,\n        \"samples\": [\n          -0.9078772490523975,\n          -0.18239164960825663,\n          -0.2690513448485344\n        ],\n        \"semantic_type\": \"\",\n        \"description\": \"\"\n      }\n    },\n    {\n      \"column\": \"Volatility\",\n      \"properties\": {\n        \"dtype\": \"number\",\n        \"std\": 1.0101525445522108,\n        \"min\": -0.7819385101571082,\n        \"max\": 5.831204795119731,\n        \"num_unique_values\": 50,\n        \"samples\": [\n          0.42710717194298,\n          -0.09271270267113517,\n          0.3582269130306865\n        ],\n        \"semantic_type\": \"\",\n        \"description\": \"\"\n      }\n    },\n    {\n      \"column\": \"momentum\",\n      \"properties\": {\n        \"dtype\": \"number\",\n        \"std\": 1.0101525445522108,\n        \"min\": -2.5842652859760884,\n        \"max\": 2.2846749910522863,\n        \"num_unique_values\": 50,\n        \"samples\": [\n          -0.8807267376191478,\n          -0.15971221282534084,\n          -0.15454761272769543\n        ],\n        \"semantic_type\": \"\",\n        \"description\": \"\"\n      }\n    }\n  ]\n}"
            }
          },
          "metadata": {},
          "execution_count": 199
        }
      ],
      "source": [
        "from sklearn.preprocessing import StandardScaler\n",
        "scaler = StandardScaler().fit(data)\n",
        "rescaledDataset = pd.DataFrame(scaler.fit_transform(data),columns = data.columns, index = data.index)\n",
        "# summarize transformed data\n",
        "rescaledDataset.head(2)\n",
        "X=rescaledDataset\n",
        "X.head(2)"
      ]
    },
    {
      "cell_type": "markdown",
      "metadata": {
        "id": "UOnqggAmpE8s"
      },
      "source": [
        "The parameters to clusters are the indices and the variables used in the clustering are the columns. Hence the data is in the right format to be fed to the clustering algorithms"
      ]
    },
    {
      "cell_type": "markdown",
      "metadata": {
        "id": "WYAVEVVcpE8s"
      },
      "source": [
        "<a id='4'></a>\n",
        "# 5. Evaluate Algorithms and Models"
      ]
    },
    {
      "cell_type": "markdown",
      "metadata": {
        "id": "5JkXS3iUpE8s"
      },
      "source": [
        "We will look at the following models:\n",
        "\n",
        "1. KMeans\n",
        "2. Hierarchical Clustering (Agglomerative Clustering)\n",
        "3. Affinity Propagation"
      ]
    },
    {
      "cell_type": "markdown",
      "metadata": {
        "id": "UTrO2-THpE8s"
      },
      "source": [
        "<a id='5.1'></a>\n",
        "## 5.1. K-Means Clustering\n"
      ]
    },
    {
      "cell_type": "markdown",
      "metadata": {
        "id": "Dt8dB3WipE8s"
      },
      "source": [
        "<a id='5.1.1'></a>\n",
        "### 5.1.1. Finding optimal number of clusters"
      ]
    },
    {
      "cell_type": "markdown",
      "metadata": {
        "id": "rXTVVDvupE8t"
      },
      "source": [
        "In this step we look at the following metrices:\n",
        "\n",
        "1. Sum of square errors (SSE) within clusters\n",
        "2. Silhouette score."
      ]
    },
    {
      "cell_type": "code",
      "execution_count": 200,
      "metadata": {
        "id": "7VbFkYQRpE8t",
        "outputId": "bcb9f911-a37f-49d5-d40d-eed50c5b4284",
        "colab": {
          "base_uri": "https://localhost:8080/",
          "height": 368
        }
      },
      "outputs": [
        {
          "output_type": "display_data",
          "data": {
            "text/plain": [
              "<Figure size 1500x500 with 1 Axes>"
            ],
            "image/png": "[encoded data removed]"
          },
          "metadata": {}
        }
      ],
      "source": [
        "distorsions = []\n",
        "max_loop=20\n",
        "for k in range(2, max_loop):\n",
        "    kmeans = KMeans(n_clusters=k)\n",
        "    kmeans.fit(X)\n",
        "    distorsions.append(kmeans.inertia_)\n",
        "fig = plt.figure(figsize=(15, 5))\n",
        "plt.plot(range(2, max_loop), distorsions)\n",
        "plt.xticks([i for i in range(2, max_loop)], rotation=75)\n",
        "plt.grid(True)"
      ]
    },
    {
      "cell_type": "markdown",
      "metadata": {
        "id": "VylvRhFFpE8t"
      },
      "source": [
        "Inspecting the sum of squared errors chart, it appears the elbow “kink” occurs 5 or 6\n",
        "clusters for this data. Certainly, we can see that as the number of clusters increase pass\n",
        "6, the sum of square of errors within clusters plateaus off."
      ]
    },
    {
      "cell_type": "markdown",
      "metadata": {
        "id": "G8k3NZjWpE8y"
      },
      "source": [
        "#### Silhouette score"
      ]
    },
    {
      "cell_type": "code",
      "execution_count": 201,
      "metadata": {
        "id": "mkKwyZQDpE8y",
        "outputId": "9dffba7c-53c1-4bc4-e6bd-9b8a4920e22b",
        "colab": {
          "base_uri": "https://localhost:8080/",
          "height": 365
        }
      },
      "outputs": [
        {
          "output_type": "display_data",
          "data": {
            "text/plain": [
              "<Figure size 1500x500 with 1 Axes>"
            ],
            "image/png": "[encoded data removed]"
          },
          "metadata": {}
        }
      ],
      "source": [
        "from sklearn import metrics\n",
        "\n",
        "silhouette_score = []\n",
        "for k in range(2, max_loop):\n",
        "        kmeans = KMeans(n_clusters=k,  random_state=10, n_init=10)\n",
        "        kmeans.fit(X)\n",
        "        silhouette_score.append(metrics.silhouette_score(X, kmeans.labels_, random_state=10))\n",
        "fig = plt.figure(figsize=(15, 5))\n",
        "plt.plot(range(2, max_loop), silhouette_score)\n",
        "plt.xticks([i for i in range(2, max_loop)], rotation=75)\n",
        "plt.grid(True)"
      ]
    },
    {
      "cell_type": "markdown",
      "metadata": {
        "id": "Z3eLqidjpE8y"
      },
      "source": [
        "From the silhouette score chart, we can see that there are various parts of the graph\n",
        "where a kink can be seen. Since there is not much a difference in SSE after 6 clusters,\n",
        "we would prefer 6 clusters in the K-means model."
      ]
    },
    {
      "cell_type": "markdown",
      "metadata": {
        "id": "S-NWvFfCpE8y"
      },
      "source": [
        "<a id='5.1.2'></a>\n",
        "### 5.1.2.  Clustering and Visualisation"
      ]
    },
    {
      "cell_type": "markdown",
      "metadata": {
        "id": "_F9prhTzpE8z"
      },
      "source": [
        "Let us build the k-means model with six clusters and\n",
        "visualize the results."
      ]
    },
    {
      "cell_type": "code",
      "execution_count": 202,
      "metadata": {
        "id": "6NBsy68npE8z"
      },
      "outputs": [],
      "source": [
        "nclust=5"
      ]
    },
    {
      "cell_type": "code",
      "execution_count": 203,
      "metadata": {
        "id": "t5XCa8LbpE8z",
        "outputId": "863802ed-2d01-41d0-8972-f136ecdca9f1",
        "colab": {
          "base_uri": "https://localhost:8080/",
          "height": 74
        }
      },
      "outputs": [
        {
          "output_type": "execute_result",
          "data": {
            "text/plain": [
              "KMeans(n_clusters=5)"
            ],
            "text/html": [
              "<style>#sk-container-id-6 {color: black;background-color: white;}#sk-container-id-6 pre{padding: 0;}#sk-container-id-6 div.sk-toggleable {background-color: white;}#sk-container-id-6 label.sk-toggleable__label {cursor: pointer;display: block;width: 100%;margin-bottom: 0;padding: 0.3em;box-sizing: border-box;text-align: center;}#sk-container-id-6 label.sk-toggleable__label-arrow:before {content: \"▸\";float: left;margin-right: 0.25em;color: #696969;}#sk-container-id-6 label.sk-toggleable__label-arrow:hover:before {color: black;}#sk-container-id-6 div.sk-estimator:hover label.sk-toggleable__label-arrow:before {color: black;}#sk-container-id-6 div.sk-toggleable__content {max-height: 0;max-width: 0;overflow: hidden;text-align: left;background-color: #f0f8ff;}#sk-container-id-6 div.sk-toggleable__content pre {margin: 0.2em;color: black;border-radius: 0.25em;background-color: #f0f8ff;}#sk-container-id-6 input.sk-toggleable__control:checked~div.sk-toggleable__content {max-height: 200px;max-width: 100%;overflow: auto;}#sk-container-id-6 input.sk-toggleable__control:checked~label.sk-toggleable__label-arrow:before {content: \"▾\";}#sk-container-id-6 div.sk-estimator input.sk-toggleable__control:checked~label.sk-toggleable__label {background-color: #d4ebff;}#sk-container-id-6 div.sk-label input.sk-toggleable__control:checked~label.sk-toggleable__label {background-color: #d4ebff;}#sk-container-id-6 input.sk-hidden--visually {border: 0;clip: rect(1px 1px 1px 1px);clip: rect(1px, 1px, 1px, 1px);height: 1px;margin: -1px;overflow: hidden;padding: 0;position: absolute;width: 1px;}#sk-container-id-6 div.sk-estimator {font-family: monospace;background-color: #f0f8ff;border: 1px dotted black;border-radius: 0.25em;box-sizing: border-box;margin-bottom: 0.5em;}#sk-container-id-6 div.sk-estimator:hover {background-color: #d4ebff;}#sk-container-id-6 div.sk-parallel-item::after {content: \"\";width: 100%;border-bottom: 1px solid gray;flex-grow: 1;}#sk-container-id-6 div.sk-label:hover label.sk-toggleable__label {background-color: #d4ebff;}#sk-container-id-6 div.sk-serial::before {content: \"\";position: absolute;border-left: 1px solid gray;box-sizing: border-box;top: 0;bottom: 0;left: 50%;z-index: 0;}#sk-container-id-6 div.sk-serial {display: flex;flex-direction: column;align-items: center;background-color: white;padding-right: 0.2em;padding-left: 0.2em;position: relative;}#sk-container-id-6 div.sk-item {position: relative;z-index: 1;}#sk-container-id-6 div.sk-parallel {display: flex;align-items: stretch;justify-content: center;background-color: white;position: relative;}#sk-container-id-6 div.sk-item::before, #sk-container-id-6 div.sk-parallel-item::before {content: \"\";position: absolute;border-left: 1px solid gray;box-sizing: border-box;top: 0;bottom: 0;left: 50%;z-index: -1;}#sk-container-id-6 div.sk-parallel-item {display: flex;flex-direction: column;z-index: 1;position: relative;background-color: white;}#sk-container-id-6 div.sk-parallel-item:first-child::after {align-self: flex-end;width: 50%;}#sk-container-id-6 div.sk-parallel-item:last-child::after {align-self: flex-start;width: 50%;}#sk-container-id-6 div.sk-parallel-item:only-child::after {width: 0;}#sk-container-id-6 div.sk-dashed-wrapped {border: 1px dashed gray;margin: 0 0.4em 0.5em 0.4em;box-sizing: border-box;padding-bottom: 0.4em;background-color: white;}#sk-container-id-6 div.sk-label label {font-family: monospace;font-weight: bold;display: inline-block;line-height: 1.2em;}#sk-container-id-6 div.sk-label-container {text-align: center;}#sk-container-id-6 div.sk-container {/* jupyter's `normalize.less` sets `[hidden] { display: none; }` but bootstrap.min.css set `[hidden] { display: none !important; }` so we also need the `!important` here to be able to override the default hidden behavior on the sphinx rendered scikit-learn.org. See: https://github.com/scikit-learn/scikit-learn/issues/21755 */display: inline-block !important;position: relative;}#sk-container-id-6 div.sk-text-repr-fallback {display: none;}</style><div id=\"sk-container-id-6\" class=\"sk-top-container\"><div class=\"sk-text-repr-fallback\"><pre>KMeans(n_clusters=5)</pre><b>In a Jupyter environment, please rerun this cell to show the HTML representation or trust the notebook. <br />On GitHub, the HTML representation is unable to render, please try loading this page with nbviewer.org.</b></div><div class=\"sk-container\" hidden><div class=\"sk-item\"><div class=\"sk-estimator sk-toggleable\"><input class=\"sk-toggleable__control sk-hidden--visually\" id=\"sk-estimator-id-6\" type=\"checkbox\" checked><label for=\"sk-estimator-id-6\" class=\"sk-toggleable__label sk-toggleable__label-arrow\">KMeans</label><div class=\"sk-toggleable__content\"><pre>KMeans(n_clusters=5)</pre></div></div></div></div></div>"
            ]
          },
          "metadata": {},
          "execution_count": 203
        }
      ],
      "source": [
        "#Fit with k-means\n",
        "k_means = cluster.KMeans(n_clusters=nclust)\n",
        "k_means.fit(X)"
      ]
    },
    {
      "cell_type": "code",
      "execution_count": 204,
      "metadata": {
        "id": "LdBxikKqpE8z"
      },
      "outputs": [],
      "source": [
        "#Extracting labels\n",
        "target_labels = k_means.predict(X)"
      ]
    },
    {
      "cell_type": "markdown",
      "metadata": {
        "id": "VcvJP9AfpE8z"
      },
      "source": [
        "Visualizing how your clusters are formed is no easy task when the number of variables/dimensions in your dataset is very large. One of the methods of visualising a cluster in two-dimensional space."
      ]
    },
    {
      "cell_type": "code",
      "execution_count": 205,
      "metadata": {
        "id": "wnrw8psgpE8z",
        "outputId": "bc21645e-8f5d-41cc-ac47-adc5577c7576",
        "colab": {
          "base_uri": "https://localhost:8080/",
          "height": 733
        }
      },
      "outputs": [
        {
          "output_type": "execute_result",
          "data": {
            "text/plain": [
              "[<matplotlib.lines.Line2D at 0x7def6e846530>]"
            ]
          },
          "metadata": {},
          "execution_count": 205
        },
        {
          "output_type": "display_data",
          "data": {
            "text/plain": [
              "<Figure size 1600x1000 with 2 Axes>"
            ],
            "image/png": "[encoded data removed]"
          },
          "metadata": {}
        }
      ],
      "source": [
        "centroids = k_means.cluster_centers_\n",
        "fig = plt.figure(figsize=(16,10))\n",
        "ax = fig.add_subplot(111)\n",
        "scatter = ax.scatter(X.iloc[:,0],X.iloc[:,1], c = k_means.labels_, cmap =\"rainbow\", label = X.index)\n",
        "ax.set_title('k-Means results')\n",
        "ax.set_xlabel('Mean Return')\n",
        "ax.set_ylabel('Volatility')\n",
        "plt.colorbar(scatter)\n",
        "\n",
        "plt.plot(centroids[:,0],centroids[:,1],'sg',markersize=11)"
      ]
    },
    {
      "cell_type": "markdown",
      "metadata": {
        "id": "g5stMeoYpE8z"
      },
      "source": [
        "Let us check the elements of the clusters"
      ]
    },
    {
      "cell_type": "code",
      "execution_count": 206,
      "metadata": {
        "id": "RsDXzvrLpE80",
        "outputId": "f09d15cc-7dfe-4070-8bad-164ed1e34f95",
        "colab": {
          "base_uri": "https://localhost:8080/",
          "height": 633
        }
      },
      "outputs": [
        {
          "output_type": "display_data",
          "data": {
            "text/plain": [
              "<Figure size 1200x700 with 1 Axes>"
            ],
            "image/png": "[encoded data removed]"
          },
          "metadata": {}
        }
      ],
      "source": [
        "# show number of stocks in each cluster\n",
        "clustered_series = pd.Series(index=X.index, data=k_means.labels_.flatten())\n",
        "# clustered stock with its cluster label\n",
        "clustered_series_all = pd.Series(index=X.index, data=k_means.labels_.flatten())\n",
        "clustered_series = clustered_series[clustered_series != -1]\n",
        "\n",
        "plt.figure(figsize=(12,7))\n",
        "plt.barh(\n",
        "    range(len(clustered_series.value_counts())), # cluster labels, y axis\n",
        "    clustered_series.value_counts()\n",
        ")\n",
        "plt.title('Cluster Member Counts')\n",
        "plt.xlabel('Stocks in Cluster')\n",
        "plt.ylabel('Cluster Number')\n",
        "plt.show()"
      ]
    },
    {
      "cell_type": "code",
      "source": [
        "for i in range(0,4):\n",
        "  print(\"cluster %d\" %i)\n",
        "  print(\"::::::::::::::\\n\", clustered_series[clustered_series ==i])"
      ],
      "metadata": {
        "id": "BihNKUlyv6fy",
        "outputId": "543ad5b1-6b0a-4650-9262-76c641b2c69c",
        "colab": {
          "base_uri": "https://localhost:8080/"
        }
      },
      "execution_count": 207,
      "outputs": [
        {
          "output_type": "stream",
          "name": "stdout",
          "text": [
            "cluster 0\n",
            "::::::::::::::\n",
            " Ticker\n",
            "APOLLOHOSP.NS    0\n",
            "BHARTIARTL.NS    0\n",
            "CIPLA.NS         0\n",
            "DRREDDY.NS       0\n",
            "GRASIM.NS        0\n",
            "HCLTECH.NS       0\n",
            "ITC.NS           0\n",
            "LT.NS            0\n",
            "M&M.NS           0\n",
            "MARUTI.NS        0\n",
            "NESTLEIND.NS     0\n",
            "RELIANCE.NS      0\n",
            "SBIN.NS          0\n",
            "SUNPHARMA.NS     0\n",
            "TATACONSUM.NS    0\n",
            "TATASTEEL.NS     0\n",
            "TCS.NS           0\n",
            "TECHM.NS         0\n",
            "TITAN.NS         0\n",
            "ULTRACEMCO.NS    0\n",
            "WIPRO.NS         0\n",
            "dtype: int32\n",
            "cluster 1\n",
            "::::::::::::::\n",
            " Ticker\n",
            "AXISBANK.NS      1\n",
            "BAJAJFINSV.NS    1\n",
            "BAJFINANCE.NS    1\n",
            "BRITANNIA.NS     1\n",
            "DIVISLAB.NS      1\n",
            "EICHERMOT.NS     1\n",
            "HDFCLIFE.NS      1\n",
            "HINDALCO.NS      1\n",
            "ICICIBANK.NS     1\n",
            "INDUSINDBK.NS    1\n",
            "INFY.NS          1\n",
            "JSWSTEEL.NS      1\n",
            "LTIM.NS          1\n",
            "SBILIFE.NS       1\n",
            "dtype: int32\n",
            "cluster 2\n",
            "::::::::::::::\n",
            " Ticker\n",
            "ADANIPORTS.NS    2\n",
            "BAJAJ-AUTO.NS    2\n",
            "BPCL.NS          2\n",
            "COALINDIA.NS     2\n",
            "HEROMOTOCO.NS    2\n",
            "NTPC.NS          2\n",
            "ONGC.NS          2\n",
            "POWERGRID.NS     2\n",
            "TATAMOTORS.NS    2\n",
            "dtype: int32\n",
            "cluster 3\n",
            "::::::::::::::\n",
            " Ticker\n",
            "ADANIENT.NS    3\n",
            "dtype: int32\n"
          ]
        }
      ]
    },
    {
      "cell_type": "markdown",
      "metadata": {
        "id": "g6vHVvpypE80"
      },
      "source": [
        "The number of stocks in a cluster range from around 40 to 120. Although, the distribution is not equal, we have significant number of stocks in each cluster."
      ]
    },
    {
      "cell_type": "markdown",
      "metadata": {
        "id": "IfZC-i0mpE80"
      },
      "source": [
        "<a id='5.2'></a>\n",
        "## 5.2. Hierarchical Clustering (Agglomerative Clustering)"
      ]
    },
    {
      "cell_type": "markdown",
      "metadata": {
        "id": "1qoDVwSgpE80"
      },
      "source": [
        "In the first step we look at the hierarchy graph and check for the number of clusters"
      ]
    },
    {
      "cell_type": "markdown",
      "metadata": {
        "id": "NuR1yUD-pE80"
      },
      "source": [
        "<a id='5.2.1'></a>\n",
        "### 5.2.1. Building Hierarchy Graph/ Dendogram"
      ]
    },
    {
      "cell_type": "markdown",
      "metadata": {
        "id": "uZYnHluDpE81"
      },
      "source": [
        "The hierarchy class has a dendrogram method which takes the value returned by the linkage method of the same class. The linkage method takes the dataset and the method to minimize distances as parameters. We use 'ward' as the method since it minimizes then variants of distances between the clusters."
      ]
    },
    {
      "cell_type": "code",
      "execution_count": 208,
      "metadata": {
        "id": "nafw7TzTpE81",
        "outputId": "e1b00ce3-57f2-42e2-e8ba-eef2aa98b752",
        "colab": {
          "base_uri": "https://localhost:8080/"
        }
      },
      "outputs": [
        {
          "output_type": "execute_result",
          "data": {
            "text/plain": [
              "array([35.       , 36.       ,  0.1149261,  2.       ])"
            ]
          },
          "metadata": {},
          "execution_count": 208
        }
      ],
      "source": [
        "from scipy.cluster.hierarchy import dendrogram, linkage, ward\n",
        "\n",
        "#Calulate linkage\n",
        "Z= linkage(X, method='ward')\n",
        "Z[0]"
      ]
    },
    {
      "cell_type": "markdown",
      "metadata": {
        "id": "7kLnT2o-pE81"
      },
      "source": [
        "The best way to visualize an agglomerate clustering algorithm is through a dendogram, which displays a cluster tree, the leaves being the individual stocks and the root being the final single cluster. The \"distance\" between each cluster is shown on the y-axis, and thus the longer the branches are, the less correlated two clusters are."
      ]
    },
    {
      "cell_type": "code",
      "execution_count": 209,
      "metadata": {
        "id": "g2sh6aAgpE81",
        "outputId": "8f6f64cb-9784-41fc-eb63-96495110deff",
        "colab": {
          "base_uri": "https://localhost:8080/",
          "height": 708
        }
      },
      "outputs": [
        {
          "output_type": "display_data",
          "data": {
            "text/plain": [
              "<Figure size 1000x700 with 1 Axes>"
            ],
            "image/png": "[encoded data removed]"
          },
          "metadata": {}
        }
      ],
      "source": [
        "#Plot Dendogram\n",
        "plt.figure(figsize=(10, 7))\n",
        "plt.title(\"Stocks Dendrograms\")\n",
        "dendrogram(Z,labels = X.index)\n",
        "plt.show()"
      ]
    },
    {
      "cell_type": "markdown",
      "metadata": {
        "id": "o3grWCSvpE82"
      },
      "source": [
        "Once one big cluster is formed, the longest vertical distance without any horizontal line passing through it is selected and a horizontal line is drawn through it. The number of vertical lines this newly created horizontal line passes is equal to number of clusters.\n",
        "Then we select the distance threshold to cut the dendrogram to obtain the selected clustering level. The output is the cluster labelled for each row of data. As expected from the dendrogram, a cut at 13 gives us four clusters."
      ]
    },
    {
      "cell_type": "code",
      "execution_count": 210,
      "metadata": {
        "id": "7ENmopcOpE82",
        "outputId": "6c1519ef-aa16-4a70-aa7d-3f6919f5f05a",
        "colab": {
          "base_uri": "https://localhost:8080/"
        }
      },
      "outputs": [
        {
          "output_type": "execute_result",
          "data": {
            "text/plain": [
              "array([1], dtype=int32)"
            ]
          },
          "metadata": {},
          "execution_count": 210
        }
      ],
      "source": [
        "distance_threshold = 13\n",
        "clusters = fcluster(Z, distance_threshold, criterion='distance')\n",
        "chosen_clusters = pd.DataFrame(data=clusters, columns=['cluster'])\n",
        "chosen_clusters['cluster'].unique()"
      ]
    },
    {
      "cell_type": "markdown",
      "metadata": {
        "id": "MFWs3BT4pE82"
      },
      "source": [
        "<a id='5.2.2'></a>\n",
        "### 5.2.2.  Clustering and Visualisation"
      ]
    },
    {
      "cell_type": "code",
      "execution_count": 211,
      "metadata": {
        "id": "kMRCLypFpE82"
      },
      "outputs": [],
      "source": [
        "nclust = 4\n",
        "hc = AgglomerativeClustering(n_clusters=nclust, affinity = 'euclidean', linkage = 'ward')\n",
        "clust_labels1 = hc.fit_predict(X)"
      ]
    },
    {
      "cell_type": "code",
      "execution_count": 212,
      "metadata": {
        "id": "3M9SBWicpE82",
        "outputId": "f1277c4c-9c18-48fb-cf26-cd1a37fde4aa",
        "colab": {
          "base_uri": "https://localhost:8080/",
          "height": 733
        }
      },
      "outputs": [
        {
          "output_type": "execute_result",
          "data": {
            "text/plain": [
              "<matplotlib.colorbar.Colorbar at 0x7def6da53790>"
            ]
          },
          "metadata": {},
          "execution_count": 212
        },
        {
          "output_type": "display_data",
          "data": {
            "text/plain": [
              "<Figure size 1600x1000 with 2 Axes>"
            ],
            "image/png": "[encoded data removed]"
          },
          "metadata": {}
        }
      ],
      "source": [
        "fig = plt.figure(figsize=(16,10))\n",
        "ax = fig.add_subplot(111)\n",
        "scatter = ax.scatter(X.iloc[:,0],X.iloc[:,1], c =clust_labels1, cmap =\"rainbow\")\n",
        "ax.set_title('Hierarchical Clustering')\n",
        "ax.set_xlabel('Mean Return')\n",
        "ax.set_ylabel('Volatility')\n",
        "plt.colorbar(scatter)"
      ]
    },
    {
      "cell_type": "markdown",
      "metadata": {
        "id": "3oqZWMGDpE83"
      },
      "source": [
        "Similar to the plot of k-means clustering, we see that there are some distinct clusters\n",
        "separated by different colors."
      ]
    },
    {
      "cell_type": "markdown",
      "metadata": {
        "id": "w-svFrfjpE83"
      },
      "source": [
        "<a id='5.3'></a>\n",
        "## 5.3. Affinity Propagation"
      ]
    },
    {
      "cell_type": "code",
      "execution_count": 213,
      "metadata": {
        "id": "blqGmpy5pE83"
      },
      "outputs": [],
      "source": [
        "ap = AffinityPropagation()\n",
        "ap.fit(X)\n",
        "clust_labels2 = ap.predict(X)"
      ]
    },
    {
      "cell_type": "code",
      "execution_count": 214,
      "metadata": {
        "id": "AgMyObbqpE83",
        "outputId": "533eccac-7c68-44a5-f9c2-e210aa00b6d9",
        "colab": {
          "base_uri": "https://localhost:8080/",
          "height": 735
        }
      },
      "outputs": [
        {
          "output_type": "execute_result",
          "data": {
            "text/plain": [
              "<matplotlib.colorbar.Colorbar at 0x7def6db33190>"
            ]
          },
          "metadata": {},
          "execution_count": 214
        },
        {
          "output_type": "display_data",
          "data": {
            "text/plain": [
              "<Figure size 1000x800 with 2 Axes>"
            ],
            "image/png": "[encoded data removed]"
          },
          "metadata": {}
        }
      ],
      "source": [
        "fig = plt.figure(figsize=(10,8))\n",
        "ax = fig.add_subplot(111)\n",
        "scatter = ax.scatter(X.iloc[:,0],X.iloc[:,1], c =clust_labels2, cmap =\"rainbow\")\n",
        "ax.set_title('Affinity')\n",
        "ax.set_xlabel('Mean Return')\n",
        "ax.set_ylabel('Volatility')\n",
        "plt.colorbar(scatter)"
      ]
    },
    {
      "cell_type": "markdown",
      "metadata": {
        "id": "JqLkElOfpE84"
      },
      "source": [
        "Similar to the plot of k-means clustering, we see that there are some distinct clusters separated by different colors."
      ]
    },
    {
      "cell_type": "markdown",
      "metadata": {
        "id": "yO8lGCAfpE84"
      },
      "source": [
        "<a id='5.3.1'></a>\n",
        "### 5.3.1 Cluster Visualisation"
      ]
    },
    {
      "cell_type": "code",
      "execution_count": 215,
      "metadata": {
        "id": "nXGSVOuxpE84"
      },
      "outputs": [],
      "source": [
        "cluster_centers_indices = ap.cluster_centers_indices_\n",
        "labels = ap.labels_"
      ]
    },
    {
      "cell_type": "code",
      "execution_count": 216,
      "metadata": {
        "id": "58DXmdXlpE84",
        "outputId": "68be80c3-9697-4c6f-c7cd-70583b96774b",
        "colab": {
          "base_uri": "https://localhost:8080/",
          "height": 557
        }
      },
      "outputs": [
        {
          "output_type": "stream",
          "name": "stdout",
          "text": [
            "Estimated number of clusters: 9\n"
          ]
        },
        {
          "output_type": "display_data",
          "data": {
            "text/plain": [
              "<Figure size 640x480 with 0 Axes>"
            ]
          },
          "metadata": {}
        },
        {
          "output_type": "display_data",
          "data": {
            "text/plain": [
              "<Figure size 800x600 with 1 Axes>"
            ],
            "image/png": "[encoded data removed]"
          },
          "metadata": {}
        }
      ],
      "source": [
        "no_clusters = len(cluster_centers_indices)\n",
        "print('Estimated number of clusters: %d' % no_clusters)\n",
        "# Plot exemplars\n",
        "\n",
        "X_temp=np.asarray(X)\n",
        "plt.close('all')\n",
        "plt.figure(1)\n",
        "plt.clf()\n",
        "\n",
        "fig = plt.figure(figsize=(8,6))\n",
        "colors = cycle('bgrcmykbgrcmykbgrcmykbgrcmyk')\n",
        "for k, col in zip(range(no_clusters), colors):\n",
        "    class_members = labels == k\n",
        "    cluster_center = X_temp[cluster_centers_indices[k]]\n",
        "    plt.plot(X_temp[class_members, 0], X_temp[class_members, 1], col + '.')\n",
        "    plt.plot(cluster_center[0], cluster_center[1], 'o', markerfacecolor=col, markeredgecolor='k', markersize=14)\n",
        "    for x in X_temp[class_members]:\n",
        "        plt.plot([cluster_center[0], x[0]], [cluster_center[1], x[1]], col)\n",
        "\n",
        "plt.show()"
      ]
    },
    {
      "cell_type": "code",
      "execution_count": 217,
      "metadata": {
        "id": "4dUSSOTNpE84",
        "outputId": "5d0459dc-873d-4493-d40f-e3e2c2cf7e80",
        "colab": {
          "base_uri": "https://localhost:8080/",
          "height": 633
        }
      },
      "outputs": [
        {
          "output_type": "display_data",
          "data": {
            "text/plain": [
              "<Figure size 1200x700 with 1 Axes>"
            ],
            "image/png": "[encoded data removed]"
          },
          "metadata": {}
        }
      ],
      "source": [
        "# show number of stocks in each cluster\n",
        "clustered_series_ap = pd.Series(index=X.index, data=ap.labels_.flatten())\n",
        "# clustered stock with its cluster label\n",
        "clustered_series_all_ap = pd.Series(index=X.index, data=ap.labels_.flatten())\n",
        "clustered_series_ap = clustered_series_ap[clustered_series != -1]\n",
        "\n",
        "plt.figure(figsize=(12,7))\n",
        "plt.barh(\n",
        "    range(len(clustered_series_ap.value_counts())), # cluster labels, y axis\n",
        "    clustered_series_ap.value_counts()\n",
        ")\n",
        "plt.title('Cluster Member Counts')\n",
        "plt.xlabel('Stocks in Cluster')\n",
        "plt.ylabel('Cluster Number')\n",
        "plt.show()"
      ]
    },
    {
      "cell_type": "markdown",
      "metadata": {
        "id": "F-2NBCQ-pE84"
      },
      "source": [
        "<a id='5.4'></a>\n",
        "## 5.4. Cluster Evaluation"
      ]
    },
    {
      "cell_type": "markdown",
      "metadata": {
        "id": "i2isNxpGpE85"
      },
      "source": [
        "If the ground truth labels are not known, evaluation must be performed using the model itself. The Silhouette Coefficient (sklearn.metrics.silhouette_score) is an example of such an evaluation, where a higher Silhouette Coefficient score relates to a model with better defined clusters. The Silhouette Coefficient is defined for each sample and is composed of two scores:"
      ]
    },
    {
      "cell_type": "code",
      "execution_count": 218,
      "metadata": {
        "id": "BwDVkkyRpE85",
        "outputId": "01aec0ce-a4ae-4235-9459-1531d011449a",
        "colab": {
          "base_uri": "https://localhost:8080/"
        }
      },
      "outputs": [
        {
          "output_type": "stream",
          "name": "stdout",
          "text": [
            "km 0.39251413763266\n",
            "hc 0.4432749720513015\n",
            "ap 0.3402590963187012\n"
          ]
        }
      ],
      "source": [
        "from sklearn import metrics\n",
        "print(\"km\", metrics.silhouette_score(X, k_means.labels_, metric='euclidean'))\n",
        "print(\"hc\", metrics.silhouette_score(X, hc.fit_predict(X), metric='euclidean'))\n",
        "print(\"ap\", metrics.silhouette_score(X, ap.labels_, metric='euclidean'))"
      ]
    },
    {
      "cell_type": "markdown",
      "metadata": {
        "id": "EqS2TK_ppE85"
      },
      "source": [
        "Given the affinity propagation performs the best, we go ahead with the affinity propagation and use 27 clusters as specified by this clustering method"
      ]
    },
    {
      "cell_type": "markdown",
      "metadata": {
        "id": "wk9_TzS5pE85"
      },
      "source": [
        "### Visualising the return within a cluster"
      ]
    },
    {
      "cell_type": "markdown",
      "metadata": {
        "id": "qBwQxBplpE85"
      },
      "source": [
        "The understand the intuition behind clustering, let us visualize the results of the clusters."
      ]
    },
    {
      "cell_type": "code",
      "execution_count": 219,
      "metadata": {
        "id": "5DTpHW-DpE85"
      },
      "outputs": [],
      "source": [
        "# all stock with its cluster label (including -1)\n",
        "clustered_series = pd.Series(index=X.index, data=ap.fit_predict(X).flatten())\n",
        "# clustered stock with its cluster label\n",
        "clustered_series_all = pd.Series(index=X.index, data=ap.fit_predict(X).flatten())\n",
        "clustered_series = clustered_series[clustered_series != -1]"
      ]
    },
    {
      "cell_type": "code",
      "source": [
        "for i in range(0,no_clusters):\n",
        "  print(\"cluster %d\" %i)\n",
        "  print(\"::::::::::::::\\n\", clustered_series[clustered_series ==i])"
      ],
      "metadata": {
        "id": "qaNfhTwetBm4",
        "outputId": "63ca99a8-3714-4461-8bb4-072936ece72e",
        "colab": {
          "base_uri": "https://localhost:8080/"
        }
      },
      "execution_count": 220,
      "outputs": [
        {
          "output_type": "stream",
          "name": "stdout",
          "text": [
            "cluster 0\n",
            "::::::::::::::\n",
            " Ticker\n",
            "ADANIENT.NS    0\n",
            "dtype: int64\n",
            "cluster 1\n",
            "::::::::::::::\n",
            " Ticker\n",
            "ADANIPORTS.NS    1\n",
            "dtype: int64\n",
            "cluster 2\n",
            "::::::::::::::\n",
            " Ticker\n",
            "BAJAJ-AUTO.NS    2\n",
            "COALINDIA.NS     2\n",
            "TATAMOTORS.NS    2\n",
            "dtype: int64\n",
            "cluster 3\n",
            "::::::::::::::\n",
            " Ticker\n",
            "APOLLOHOSP.NS    3\n",
            "BHARTIARTL.NS    3\n",
            "DRREDDY.NS       3\n",
            "HCLTECH.NS       3\n",
            "LT.NS            3\n",
            "M&M.NS           3\n",
            "MARUTI.NS        3\n",
            "SUNPHARMA.NS     3\n",
            "TATACONSUM.NS    3\n",
            "TITAN.NS         3\n",
            "ULTRACEMCO.NS    3\n",
            "dtype: int64\n",
            "cluster 4\n",
            "::::::::::::::\n",
            " Ticker\n",
            "AXISBANK.NS      4\n",
            "BAJAJFINSV.NS    4\n",
            "BAJFINANCE.NS    4\n",
            "BRITANNIA.NS     4\n",
            "DIVISLAB.NS      4\n",
            "EICHERMOT.NS     4\n",
            "HDFCLIFE.NS      4\n",
            "HINDALCO.NS      4\n",
            "INFY.NS          4\n",
            "JSWSTEEL.NS      4\n",
            "dtype: int64\n",
            "cluster 5\n",
            "::::::::::::::\n",
            " Ticker\n",
            "ASIANPAINT.NS    5\n",
            "HDFCBANK.NS      5\n",
            "HINDUNILVR.NS    5\n",
            "KOTAKBANK.NS     5\n",
            "dtype: int64\n",
            "cluster 6\n",
            "::::::::::::::\n",
            " Ticker\n",
            "BPCL.NS          6\n",
            "HEROMOTOCO.NS    6\n",
            "NTPC.NS          6\n",
            "ONGC.NS          6\n",
            "POWERGRID.NS     6\n",
            "dtype: int64\n",
            "cluster 7\n",
            "::::::::::::::\n",
            " Ticker\n",
            "CIPLA.NS         7\n",
            "GRASIM.NS        7\n",
            "ICICIBANK.NS     7\n",
            "INDUSINDBK.NS    7\n",
            "ITC.NS           7\n",
            "LTIM.NS          7\n",
            "NESTLEIND.NS     7\n",
            "RELIANCE.NS      7\n",
            "SBILIFE.NS       7\n",
            "SBIN.NS          7\n",
            "TATASTEEL.NS     7\n",
            "TCS.NS           7\n",
            "TECHM.NS         7\n",
            "WIPRO.NS         7\n",
            "dtype: int64\n",
            "cluster 8\n",
            "::::::::::::::\n",
            " Ticker\n",
            "UPL.NS    8\n",
            "dtype: int64\n"
          ]
        }
      ]
    },
    {
      "cell_type": "code",
      "execution_count": 221,
      "metadata": {
        "id": "c39Crs6SpE85",
        "outputId": "fd83ddbd-45d7-4538-f3c6-65ca93542040",
        "colab": {
          "base_uri": "https://localhost:8080/"
        }
      },
      "outputs": [
        {
          "output_type": "execute_result",
          "data": {
            "text/plain": [
              "[2, 5, 6, 4, 3, 7]"
            ]
          },
          "metadata": {},
          "execution_count": 221
        }
      ],
      "source": [
        "# get the number of stocks in each cluster\n",
        "counts = clustered_series_ap.value_counts()\n",
        "\n",
        "# let's visualize some clusters\n",
        "cluster_vis_list = list(counts[(counts<25) & (counts>1)].index)[::-1]\n",
        "cluster_vis_list"
      ]
    },
    {
      "cell_type": "code",
      "execution_count": 222,
      "metadata": {
        "id": "pHy_3QKEpE86",
        "outputId": "c3ead6a1-95d6-4aea-aa05-860007ac6640",
        "colab": {
          "base_uri": "https://localhost:8080/"
        }
      },
      "outputs": [
        {
          "output_type": "stream",
          "name": "stdout",
          "text": [
            "Clusters formed: 6\n",
            "Pairs to evaluate: 420\n"
          ]
        }
      ],
      "source": [
        "CLUSTER_SIZE_LIMIT = 9999\n",
        "counts = clustered_series.value_counts()\n",
        "ticker_count_reduced = counts[(counts>1) & (counts<=CLUSTER_SIZE_LIMIT)]\n",
        "print (\"Clusters formed: %d\" % len(ticker_count_reduced))\n",
        "print (\"Pairs to evaluate: %d\" % (ticker_count_reduced*(ticker_count_reduced-1)).sum())"
      ]
    },
    {
      "cell_type": "code",
      "execution_count": 223,
      "metadata": {
        "id": "rpBoSlVHpE86",
        "outputId": "162700b1-41f5-4c08-cf95-6d2e4abdfb8b",
        "colab": {
          "base_uri": "https://localhost:8080/",
          "height": 52
        }
      },
      "outputs": [
        {
          "output_type": "execute_result",
          "data": {
            "text/plain": [
              "[2, 5, 6, 4]"
            ]
          },
          "metadata": {},
          "execution_count": 223
        },
        {
          "output_type": "display_data",
          "data": {
            "text/plain": [
              "<Figure size 1200x700 with 0 Axes>"
            ]
          },
          "metadata": {}
        }
      ],
      "source": [
        "# plot a handful of the smallest clusters\n",
        "plt.figure(figsize=(12,7))\n",
        "cluster_vis_list[0:min(len(cluster_vis_list), 4)]"
      ]
    },
    {
      "cell_type": "code",
      "execution_count": 224,
      "metadata": {
        "id": "fPNtASLvpE86",
        "outputId": "43781891-5620-4423-b309-d8b0a896d5fe",
        "colab": {
          "base_uri": "https://localhost:8080/",
          "height": 1000
        }
      },
      "outputs": [
        {
          "output_type": "display_data",
          "data": {
            "text/plain": [
              "<Figure size 640x480 with 1 Axes>"
            ],
            "image/png": "[encoded data removed]"
          },
          "metadata": {}
        },
        {
          "output_type": "display_data",
          "data": {
            "text/plain": [
              "<Figure size 640x480 with 1 Axes>"
            ],
            "image/png": "[encoded data removed]"
          },
          "metadata": {}
        },
        {
          "output_type": "display_data",
          "data": {
            "text/plain": [
              "<Figure size 640x480 with 1 Axes>"
            ],
            "image/png": "[encoded data removed]"
          },
          "metadata": {}
        },
        {
          "output_type": "display_data",
          "data": {
            "text/plain": [
              "<Figure size 640x480 with 1 Axes>"
            ],
            "image/png": "[encoded data removed]"
          },
          "metadata": {}
        }
      ],
      "source": [
        "for clust in cluster_vis_list[0:min(len(cluster_vis_list), 4)]:\n",
        "    tickers = list(clustered_series[clustered_series==clust].index)\n",
        "    means = np.log(dataset.loc[:\"2018-02-01\", tickers].mean())\n",
        "    data = np.log(dataset.loc[:\"2018-02-01\", tickers]).sub(means)\n",
        "    data.plot(title='Stock Time Series for Cluster %d' % clust)\n",
        "plt.show()"
      ]
    },
    {
      "cell_type": "markdown",
      "metadata": {
        "id": "1yA7_yRepE86"
      },
      "source": [
        "Looking at the charts above, across all the clusters with small number of stocks, we\n",
        "see similar movement of the stocks under different clusters, which corroborates the\n",
        "effectiveness of the clustering technique."
      ]
    },
    {
      "cell_type": "markdown",
      "metadata": {
        "id": "GCjImSv1pE86"
      },
      "source": [
        "<a id='6'></a>\n",
        "# 6. Pairs Selection"
      ]
    },
    {
      "cell_type": "markdown",
      "metadata": {
        "id": "FhlxhWecpE87"
      },
      "source": [
        "<a id='6.1'></a>\n",
        "## 6.1. Cointegration and Pair Selection Function"
      ]
    },
    {
      "cell_type": "code",
      "source": [
        "for clust in cluster_vis_list[0:min(len(cluster_vis_list), 4)]:\n",
        "  print(clust)"
      ],
      "metadata": {
        "id": "QNoum0TJsxG-",
        "outputId": "d1d509f6-5947-4454-c2f7-9fd2f359972a",
        "colab": {
          "base_uri": "https://localhost:8080/"
        }
      },
      "execution_count": 225,
      "outputs": [
        {
          "output_type": "stream",
          "name": "stdout",
          "text": [
            "2\n",
            "5\n",
            "6\n",
            "4\n"
          ]
        }
      ]
    },
    {
      "cell_type": "code",
      "execution_count": 226,
      "metadata": {
        "id": "SDr14f7WpE87"
      },
      "outputs": [],
      "source": [
        "def find_cointegrated_pairs(data, significance=0.05):\n",
        "    # This function is from https://www.quantopian.com/lectures/introduction-to-pairs-trading\n",
        "    n = data.shape[1]\n",
        "    score_matrix = np.zeros((n, n))\n",
        "    pvalue_matrix = np.ones((n, n))\n",
        "    keys = data.keys()\n",
        "    pairs = []\n",
        "    for i in range(1):\n",
        "        for j in range(i+1, n):\n",
        "            S1 = data[keys[i]]\n",
        "            S2 = data[keys[j]]\n",
        "            result = coint(S1, S2)\n",
        "            score = result[0]\n",
        "            pvalue = result[1]\n",
        "            score_matrix[i, j] = score\n",
        "            pvalue_matrix[i, j] = pvalue\n",
        "            if pvalue < significance:\n",
        "                pairs.append((keys[i], keys[j]))\n",
        "    return score_matrix, pvalue_matrix, pairs"
      ]
    },
    {
      "cell_type": "code",
      "execution_count": 227,
      "metadata": {
        "id": "wSK5IFBCpE87"
      },
      "outputs": [],
      "source": [
        "from statsmodels.tsa.stattools import coint\n",
        "cluster_dict = {}\n",
        "for i, which_clust in enumerate(ticker_count_reduced.index):\n",
        "    tickers = clustered_series[clustered_series == which_clust].index\n",
        "    score_matrix, pvalue_matrix, pairs = find_cointegrated_pairs(\n",
        "        dataset[tickers]\n",
        "    )\n",
        "    cluster_dict[which_clust] = {}\n",
        "    cluster_dict[which_clust]['score_matrix'] = score_matrix\n",
        "    cluster_dict[which_clust]['pvalue_matrix'] = pvalue_matrix\n",
        "    cluster_dict[which_clust]['pairs'] = pairs"
      ]
    },
    {
      "cell_type": "code",
      "execution_count": 228,
      "metadata": {
        "id": "mwwGxUN6pE87"
      },
      "outputs": [],
      "source": [
        "pairs = []\n",
        "for clust in cluster_dict.keys():\n",
        "    pairs.extend(cluster_dict[clust]['pairs'])"
      ]
    },
    {
      "cell_type": "code",
      "execution_count": 229,
      "metadata": {
        "id": "Jdxh0Mg6pE87",
        "outputId": "bd42e879-c8c5-48e0-9b2a-29151742a75b",
        "colab": {
          "base_uri": "https://localhost:8080/"
        }
      },
      "outputs": [
        {
          "output_type": "stream",
          "name": "stdout",
          "text": [
            "Number of pairs found : 5\n",
            "In those pairs, there are 8 unique tickers.\n"
          ]
        }
      ],
      "source": [
        "print (\"Number of pairs found : %d\" % len(pairs))\n",
        "print (\"In those pairs, there are %d unique tickers.\" % len(np.unique(pairs)))"
      ]
    },
    {
      "cell_type": "code",
      "execution_count": 230,
      "metadata": {
        "id": "R73BbDAspE87",
        "outputId": "99fe97dd-8b8f-4d3f-b844-7d3faf30363a",
        "colab": {
          "base_uri": "https://localhost:8080/"
        }
      },
      "outputs": [
        {
          "output_type": "execute_result",
          "data": {
            "text/plain": [
              "[('CIPLA.NS', 'TATASTEEL.NS'),\n",
              " ('APOLLOHOSP.NS', 'BHARTIARTL.NS'),\n",
              " ('APOLLOHOSP.NS', 'TATACONSUM.NS'),\n",
              " ('APOLLOHOSP.NS', 'TITAN.NS'),\n",
              " ('AXISBANK.NS', 'BAJAJFINSV.NS')]"
            ]
          },
          "metadata": {},
          "execution_count": 230
        }
      ],
      "source": [
        "pairs"
      ]
    },
    {
      "cell_type": "markdown",
      "metadata": {
        "id": "EGPu0whcpE87"
      },
      "source": [
        "<a id='6.2'></a>\n",
        "## 6.2. Pair Visualization"
      ]
    },
    {
      "cell_type": "code",
      "execution_count": 231,
      "metadata": {
        "id": "2_UqAVoipE87"
      },
      "outputs": [],
      "source": [
        "from sklearn.manifold import TSNE\n",
        "import matplotlib.cm as cm\n",
        "stocks = np.unique(pairs)\n",
        "X_df = pd.DataFrame(index=X.index, data=X).T"
      ]
    },
    {
      "cell_type": "code",
      "execution_count": 232,
      "metadata": {
        "id": "k7TFiY_opE88"
      },
      "outputs": [],
      "source": [
        "in_pairs_series = clustered_series.loc[stocks]\n",
        "stocks = list(np.unique(pairs))\n",
        "X_pairs = X_df.T.loc[stocks]"
      ]
    },
    {
      "cell_type": "code",
      "execution_count": 233,
      "metadata": {
        "id": "JgampKERpE88"
      },
      "outputs": [],
      "source": [
        "X_tsne = TSNE(learning_rate=50, perplexity=3, random_state=1337).fit_transform(X_pairs)"
      ]
    },
    {
      "cell_type": "code",
      "execution_count": 234,
      "metadata": {
        "id": "Trgs3apqpE88",
        "outputId": "6ed3a06c-2c58-4005-f488-89d0f9297f3a",
        "colab": {
          "base_uri": "https://localhost:8080/",
          "height": 543
        }
      },
      "outputs": [
        {
          "output_type": "execute_result",
          "data": {
            "text/plain": [
              "[<matplotlib.lines.Line2D at 0x7def6e6cace0>]"
            ]
          },
          "metadata": {},
          "execution_count": 234
        },
        {
          "output_type": "display_data",
          "data": {
            "text/plain": [
              "<Figure size 1600x800 with 1 Axes>"
            ],
            "image/png": "[encoded data removed]"
          },
          "metadata": {}
        }
      ],
      "source": [
        "plt.figure(1, facecolor='white',figsize=(16,8))\n",
        "plt.clf()\n",
        "plt.axis('off')\n",
        "for pair in pairs:\n",
        "    #print(pair[0])\n",
        "    ticker1 = pair[0]\n",
        "    loc1 = X_pairs.index.get_loc(pair[0])\n",
        "    x1, y1 = X_tsne[loc1, :]\n",
        "    #print(ticker1, loc1)\n",
        "\n",
        "    ticker2 = pair[0]\n",
        "    loc2 = X_pairs.index.get_loc(pair[1])\n",
        "    x2, y2 = X_tsne[loc2, :]\n",
        "\n",
        "    plt.plot([x1, x2], [y1, y2], 'k-', alpha=0.3, c='gray');\n",
        "\n",
        "plt.scatter(X_tsne[:, 0], X_tsne[:, 1], s=220, alpha=0.9, c=in_pairs_series.values, cmap=cm.Paired)\n",
        "plt.title('T-SNE Visualization of Validated Pairs');\n",
        "\n",
        "# zip joins x and y coordinates in pairs\n",
        "for x,y,name in zip(X_tsne[:,0],X_tsne[:,1],X_pairs.index):\n",
        "\n",
        "    label = name\n",
        "\n",
        "    plt.annotate(label, # this is the text\n",
        "                 (x,y), # this is the point to label\n",
        "                 textcoords=\"offset points\", # how to position the text\n",
        "                 xytext=(0,10), # distance from text to points (x,y)\n",
        "                 ha='center') # horizontal alignment can be left, right or center\n",
        "\n",
        "plt.plot(centroids[:,0],centroids[:,1],'sg',markersize=11)\n"
      ]
    },
    {
      "cell_type": "markdown",
      "metadata": {
        "id": "Ud0AAxS2pE88"
      },
      "source": [
        "**Conclusion**\n",
        "\n",
        "The clustering techniques do not directly help in stock trend prediction. However,\n",
        "they can be effectively used in portfolio construction for finding the right pairs,\n",
        "which eventually help in risk mitigation and one can achieve superior risk adjusted\n",
        "returns.\n",
        "\n",
        "We showed the approaches to finding the appropriate number of clusters in k-means\n",
        "and built a hierarchy graph in hierarchical clustering. A next step from this case study\n",
        "would be to explore and backtest various long/short trading strategies with pairs of\n",
        "stocks from the groupings of stocks.\n",
        "\n",
        "Clustering can effectively be used for dividing stocks into groups with “similar characteristics” for many other kinds of trading strategies and can help in portfolio construction to ensure we choose a universe of stocks with sufficient diversification\n",
        "between them."
      ]
    }
  ],
  "metadata": {
    "_change_revision": 206,
    "_is_fork": false,
    "kernelspec": {
      "display_name": "Python 3",
      "language": "python",
      "name": "python3"
    },
    "language_info": {
      "codemirror_mode": {
        "name": "ipython",
        "version": 3
      },
      "file_extension": ".py",
      "mimetype": "text/x-python",
      "name": "python",
      "nbconvert_exporter": "python",
      "pygments_lexer": "ipython3",
      "version": "3.7.3"
    },
    "colab": {
      "provenance": []
    }
  },
  "nbformat": 4,
  "nbformat_minor": 0
}